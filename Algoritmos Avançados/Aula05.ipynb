{
  "cells": [
    {
      "cell_type": "markdown",
      "metadata": {},
      "source": [
        "# Aula 5: Algoritmos Gulosos\n",
        "\n",
        "Nesta aula, vamos explorar o paradigma de **Algoritmos Gulosos**, entendendo seu processo de tomada de decisão local, aplicações clássicas, aplicações avançadas e limitações."
      ]
    },
    {
      "cell_type": "markdown",
      "metadata": {},
      "source": [
        "## Objetivos de Aprendizagem\n",
        "\n",
        "Ao final desta aula, você deverá ser capaz de:\n",
        "1. Definir o paradigma guloso e suas características principais.\n",
        "2. Explicar as propriedades de **Escolha Gulosa** e **Subestrutura Ótima**.\n",
        "3. Descrever a estrutura geral de um algoritmo guloso e analisar sua complexidade.\n",
        "4. Aplicar técnicas gulosas em problemas clássicos (troco, escalonamento, Huffman).\n",
        "5. Identificar casos em que o guloso falha e estratégias de correção."
      ]
    },
    {
      "cell_type": "markdown",
      "metadata": {},
      "source": [
        "## Fundamentos e Troco de Moedas\n",
        "\n",
        "### 1. O que é um Algoritmo Guloso?\n",
        "Em um **Algoritmo Guloso**, em cada passo, escolhemos a opção que parece ser a melhor localmente, sem reconsiderar decisões anteriores. Essa escolha local deve levar a uma solução global ótima, sob certas condições.\n",
        "\n",
        "### 2. Propriedades Fundamentais\n",
        "- **Escolha Gulosa (Greedy Choice Property)**: uma escolha gulosa pode ser estendida a uma solução ótima global.\n",
        "- **Subestrutura Ótima**: a solução ótima de um problema contém soluções ótimas de seus subproblemas.\n",
        "\n",
        "### 3. Estrutura Geral de Algoritmos Gulosos (Pseudocódigo)\n",
        "````python\n",
        "GREEDY_ALGO(PROBLEM):\n",
        "    solucao = vazio\n",
        "    while PROBLEM não está vazio:\n",
        "        elemento = escolher_melhor(PROBLEM)   # escolha gulosa\n",
        "        adicionar(solucao, elemento)\n",
        "        PROBLEM = atualizar(PROBLEM, elemento)\n",
        "    return solucao\n",
        "\n",
        "````"
      ]
    },
    {
      "cell_type": "markdown",
      "metadata": {},
      "source": [
        "### 4. Exemplo 1: Troco de Moedas\n",
        "Dado um conjunto de moedas e um valor, escolhemos sempre a maior moeda possível até atingir o valor desejado."
      ]
    },
    {
      "cell_type": "code",
      "execution_count": 1,
      "metadata": {},
      "outputs": [
        {
          "name": "stdout",
          "output_type": "stream",
          "text": [
            "Moedas usadas: [25, 25, 10, 1, 1, 1]\n",
            "Número de moedas: 6\n"
          ]
        }
      ],
      "source": [
        "def greedy_coin_change(coins, amount):\n",
        "    coins = sorted(coins, reverse=True)\n",
        "    res = []\n",
        "    for c in coins:\n",
        "        while amount >= c:\n",
        "            amount -= c\n",
        "            res.append(c)\n",
        "    return res\n",
        "\n",
        "# Teste\n",
        "coins = [1, 5, 10, 25]\n",
        "amount = 63\n",
        "troco = greedy_coin_change(coins, amount)\n",
        "print('Moedas usadas:', troco)\n",
        "print('Número de moedas:', len(troco))"
      ]
    },
    {
      "cell_type": "markdown",
      "metadata": {},
      "source": [
        "**Análise**: Complexidade $O(m \\log m + k)$, onde $m$ é número de tipos de moedas (para sort) e $k$ é número de moedas escolhidas.\n",
        "\n"
      ]
    },
    {
      "cell_type": "markdown",
      "metadata": {},
      "source": [
        "## Algoritmo de Huffman Coding\n",
        "\n",
        "Construção de árvore de Huffman para compressão ótima de caracteres com base em frequências.\n"
      ]
    },
    {
      "cell_type": "markdown",
      "metadata": {},
      "source": [
        "### 5. Exemplo 1: Escalonamento de Atividades\n",
        "Dado um conjunto de atividades com tempos de início e fim, selecione o máximo de atividades não sobrepostas usando escolha gulosa baseada no menor tempo de fim."
      ]
    },
    {
      "cell_type": "code",
      "execution_count": null,
      "metadata": {},
      "outputs": [],
      "source": [
        "## Explicação Detalhada do Algoritmo Huffman Coding em Python\n",
        "\n",
        "import heapq\n",
        "\n",
        "def huffman_coding(freq):\n",
        "    # 1) Cria um heap onde cada elemento é [peso, [símbolo, código]]\n",
        "    heap = [[wt, [sym, \"\"]] for sym, wt in freq.items()]\n",
        "    heapq.heapify(heap)\n",
        "\n",
        "    # 2) Enquanto houver mais de um nó no heap:\n",
        "    while len(heap) > 1:\n",
        "        # 2.1) Remove os dois nós de menor peso\n",
        "        lo = heapq.heappop(heap)\n",
        "        hi = heapq.heappop(heap)\n",
        "\n",
        "        # 2.2) Prefixa '0' a todos os códigos do nó menor\n",
        "        for pair in lo[1:]:\n",
        "            pair[1] = '0' + pair[1]\n",
        "\n",
        "        # 2.3) Prefixa '1' a todos os códigos do nó maior\n",
        "        for pair in hi[1:]:\n",
        "            pair[1] = '1' + pair[1]\n",
        "\n",
        "        # 2.4) Junta os dois nós em um novo nó:\n",
        "        #     - peso = soma dos pesos\n",
        "        #     - lista de ([símbolo, código]) combinada\n",
        "        new_node = [lo[0] + hi[0]] + lo[1:] + hi[1:]\n",
        "        heapq.heappush(heap, new_node)\n",
        "\n",
        "    # 3) Quando só restar um nó, extrai os pares [símbolo, código]\n",
        "    #    e ordena por comprimento de código, depois por símbolo\n",
        "    return sorted(heapq.heappop(heap)[1:], key=lambda p: (len(p[1]), p))\n",
        "\n",
        "# Teste\n",
        "freq = {'a':45, 'b':13, 'c':12, 'd':16, 'e':9, 'f':5}\n",
        "print('Códigos:', huffman_coding(freq))\n"
      ]
    },
    {
      "cell_type": "markdown",
      "id": "dac7fff7",
      "metadata": {},
      "source": [
        "Exemplo de saída para freq = {'a':45, 'b':13, 'c':12, 'd':16, 'e':9, 'f':5}:\n",
        "\n",
        "| Símbolo | Frequência | Código |\n",
        "|:-------:|:----------:|:-------|\n",
        "| a       | 45         | 0      |\n",
        "| b       | 13         | 101    |\n",
        "| c       | 12         | 100    |\n",
        "| d       | 16         | 111    |\n",
        "| e       | 9          | 1101   |\n",
        "| f       | 5          | 1100   |\n"
      ]
    },
    {
      "cell_type": "markdown",
      "metadata": {},
      "source": [
        "**Complexidade**: $O(n \\log n)$ pela ordenação inicial."
      ]
    },
    {
      "cell_type": "markdown",
      "metadata": {},
      "source": [
        "### 6. Exemplo 3: Huffman Coding\n"
      ]
    },
    {
      "cell_type": "markdown",
      "metadata": {},
      "source": [
        "**Complexidade**: $O(n \\log n)$.\n"
      ]
    },
    {
      "cell_type": "markdown",
      "metadata": {},
      "source": [
        "## Aplicações Avançadas e Limitações\n",
        "\n",
        "Nesta seção, analisamos casos onde o paradigma guloso falha e apresentamos estratégias de correção e aplicações mais sofisticadas."
      ]
    },
    {
      "cell_type": "markdown",
      "metadata": {},
      "source": [
        "### 7. Caso de Falha: Troco Não-Canônico\n",
        "Com conjunto de moedas não canônico, o guloso pode não ser ótimo. Por exemplo,\n",
        "`coins = [1, 3, 4]`, `amount = 6`:\n",
        "- Greedy → `[4,1,1]` (3 moedas)\n",
        "- Ótimo → `[3,3]` (2 moedas)"
      ]
    },
    {
      "cell_type": "code",
      "execution_count": null,
      "metadata": {},
      "outputs": [],
      "source": [
        "# Demonstração de falha do guloso\n",
        "coins = [1,3,4]\n",
        "amount = 6\n",
        "print('Greedy:', greedy_coin_change(coins, amount))\n",
        "\n",
        "# Solução ótima via DP\n",
        "def coin_change_dp(coins, amount):\n",
        "    dp = [float('inf')]*(amount+1)\n",
        "    dp[0] = 0\n",
        "    for i in range(1, amount+1):\n",
        "        for c in coins:\n",
        "            if i >= c:\n",
        "                dp[i] = min(dp[i], dp[i-c]+1)\n",
        "    return dp[amount]\n",
        "print('DP mínimo moedas:', coin_change_dp(coins, amount))"
      ]
    },
    {
      "cell_type": "markdown",
      "metadata": {},
      "source": [
        "### 8. Aplicações Avançadas e Estratégias\n",
        "- **Problemas NP-difíceis**: tipicamente não têm escolha gulosa; usam DP ou meta-heurísticas.\n",
        "\n",
        "- **Approximation Schemes**: aplicar heurísticas gulosas como ponto de partida para refinamento.\n",
        "\n",
        "- **Árvores de Decisão**: usar limites (branch & bound) para corrigir escolhas gulosas.\n",
        "\n"
      ]
    }
  ],
  "metadata": {
    "kernelspec": {
      "display_name": "base",
      "language": "python",
      "name": "python3"
    },
    "language_info": {
      "codemirror_mode": {
        "name": "ipython",
        "version": 3
      },
      "file_extension": ".py",
      "mimetype": "text/x-python",
      "name": "python",
      "nbconvert_exporter": "python",
      "pygments_lexer": "ipython3",
      "version": "3.11.7"
    }
  },
  "nbformat": 4,
  "nbformat_minor": 5
}
