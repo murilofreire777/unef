{
  "cells": [
    {
      "cell_type": "markdown",
      "metadata": {},
      "source": [
        "# Aula 5: Algoritmos Gulosos – Completo em 3 Partes\n",
        "\n",
        "Nesta aula, vamos explorar o paradigma de **Algoritmos Gulosos**, entendendo seu processo de tomada de decisão local, aplicações clássicas, aplicações avançadas e limitações."
      ]
    },
    {
      "cell_type": "markdown",
      "metadata": {},
      "source": [
        "## Objetivos de Aprendizagem\n",
        "\n",
        "Ao final desta aula, você deverá ser capaz de:\n",
        "1. Definir o paradigma guloso e suas características principais.\n",
        "2. Explicar as propriedades de **Escolha Gulosa** e **Subestrutura Ótima**.\n",
        "3. Descrever a estrutura geral de um algoritmo guloso e analisar sua complexidade.\n",
        "4. Aplicar técnicas gulosas em problemas clássicos (troco, escalonamento, Huffman).\n",
        "5. Identificar casos em que o guloso falha e estratégias de correção."
      ]
    },
    {
      "cell_type": "markdown",
      "metadata": {},
      "source": [
        "## Parte 1/3: Fundamentos e Troco de Moedas\n",
        "\n",
        "### 1. O que é um Algoritmo Guloso?\n",
        "Em um **Algoritmo Guloso**, em cada passo, escolhemos a opção que parece ser a melhor localmente, sem reconsiderar decisões anteriores. Essa escolha local deve levar a uma solução global ótima, sob certas condições.\n",
        "\n",
        "### 2. Propriedades Fundamentais\n",
        "- **Escolha Gulosa (Greedy Choice Property)**: uma escolha gulosa pode ser estendida a uma solução ótima global.\n",
        "- **Subestrutura Ótima**: a solução ótima de um problema contém soluções ótimas de seus subproblemas.\n",
        "\n",
        "### 3. Estrutura Geral de Algoritmos Gulosos (Pseudocódigo)\n",
        "```pseudocode\n",
        "GREEDY_ALGO(PROBLEM):\n",
        "    solucao = vazio\n",
        "    while PROBLEM não está vazio:\n",
        "        elemento = escolher_melhor(PROBLEM)   # escolha gulosa\n",
        "        adicionar(solucao, elemento)\n",
        "        PROBLEM = atualizar(PROBLEM, elemento)\n",
        "    return solucao\n",
        "```"
      ]
    },
    {
      "cell_type": "markdown",
      "metadata": {},
      "source": [
        "### 4. Exemplo 1: Troco de Moedas\n",
        "Dado um conjunto de moedas e um valor, escolhemos sempre a maior moeda possível até atingir o valor desejado."
      ]
    },
    {
      "cell_type": "code",
      "execution_count": null,
      "metadata": {},
      "outputs": [],
      "source": [
        "def greedy_coin_change(coins, amount):\n",
        "    coins = sorted(coins, reverse=True)\n",
        "    res = []\n",
        "    for c in coins:\n",
        "        while amount >= c:\n",
        "            amount -= c\n",
        "            res.append(c)\n",
        "    return res\n",
        "\n",
        "# Teste\n",
        "coins = [1, 5, 10, 25]\n",
        "amount = 63\n",
        "troco = greedy_coin_change(coins, amount)\n",
        "print('Moedas usadas:', troco)\n",
        "print('Número de moedas:', len(troco))"
      ]
    },
    {
      "cell_type": "markdown",
      "metadata": {},
      "source": [
        "**Análise**: Complexidade $O(m \\log m + k)$, onde $m$ é número de tipos de moedas (para sort) e $k$ é número de moedas escolhidas.\n",
        "\n",
        "#### Parte 1 de 3 finalizada. Na Parte 2, escalonamento de atividades e Huffman Coding."
      ]
    },
    {
      "cell_type": "markdown",
      "metadata": {},
      "source": [
        "## Parte 2/3: Escalonamento de Atividades e Huffman Coding\n"
      ]
    },
    {
      "cell_type": "markdown",
      "metadata": {},
      "source": [
        "### 5. Exemplo 2: Escalonamento de Atividades\n",
        "Dado um conjunto de atividades com tempos de início e fim, selecione o máximo de atividades não sobrepostas usando escolha gulosa baseada no menor tempo de fim."
      ]
    },
    {
      "cell_type": "code",
      "execution_count": null,
      "metadata": {},
      "outputs": [],
      "source": [
        "def greedy_activity_selection(start, finish):\n",
        "    activities = sorted(zip(start, finish), key=lambda x: x[1])\n",
        "    sol = [activities[0]]\n",
        "    last_end = activities[0][1]\n",
        "    for s, e in activities[1:]:\n",
        "        if s >= last_end:\n",
        "            sol.append((s, e))\n",
        "            last_end = e\n",
        "    return sol\n",
        "# Teste\n",
        "start = [1, 3, 0, 5, 8, 5]\n",
        "finish = [2, 4, 6, 7, 9, 9]\n",
        "print('Atividades selecionadas:', greedy_activity_selection(start, finish))"
      ]
    },
    {
      "cell_type": "markdown",
      "metadata": {},
      "source": [
        "**Complexidade**: $O(n \\log n)$ pela ordenação inicial."
      ]
    },
    {
      "cell_type": "markdown",
      "metadata": {},
      "source": [
        "### 6. Exemplo 3: Huffman Coding\n",
        "Construção de árvore de Huffman para compressão ótima de caracteres com base em frequências."
      ]
    },
    {
      "cell_type": "code",
      "execution_count": null,
      "metadata": {},
      "outputs": [],
      "source": [
        "import heapq\n",
        "def huffman_coding(freq):\n",
        "    heap = [[wt, [sym, \"\"]] for sym, wt in freq.items()]\\n \n",
        "    heapq.heapify(heap)\n",
        "    while len(heap) > 1:\n",
        "        lo = heapq.heappop(heap)\n",
        "        hi = heapq.heappop(heap)\n",
        "        for pair in lo[1:]: pair[1] = '0' + pair[1]\n",
        "        for pair in hi[1:]: pair[1] = '1' + pair[1]\n",
        "        heapq.heappush(heap, [lo[0]+hi[0]]+lo[1:]+hi[1:])\n",
        "    return sorted(heapq.heappop(heap)[1:], key=lambda p: (len(p[1]), p))\n",
        "# Teste\n",
        "freq = {'a':45,'b':13,'c':12,'d':16,'e':9,'f':5}\n",
        "print('Códigos:', huffman_coding(freq))"
      ]
    },
    {
      "cell_type": "markdown",
      "metadata": {},
      "source": [
        "**Complexidade**: $O(n \\log n)$.\n"
      ]
    },
    {
      "cell_type": "markdown",
      "metadata": {},
      "source": [
        "#### Parte 2 de 3 finalizada. Na Parte 3, veremos aplicações avançadas e limitações do guloso."
      ]
    },
    {
      "cell_type": "markdown",
      "metadata": {},
      "source": [
        "## Parte 3/3: Aplicações Avançadas e Limitações\n",
        "\n",
        "Nesta seção, analisamos casos onde o paradigma guloso falha e apresentamos estratégias de correção e aplicações mais sofisticadas."
      ]
    },
    {
      "cell_type": "markdown",
      "metadata": {},
      "source": [
        "### 7. Caso de Falha: Troco Não-Canônico\n",
        "Com conjunto de moedas não canônico, o guloso pode não ser ótimo. Por exemplo,\n",
        "`coins = [1, 3, 4]`, `amount = 6`:\n",
        "- Greedy → `[4,1,1]` (3 moedas)\n",
        "- Ótimo → `[3,3]` (2 moedas)"
      ]
    },
    {
      "cell_type": "code",
      "execution_count": null,
      "metadata": {},
      "outputs": [],
      "source": [
        "# Demonstração de falha do guloso\n",
        "coins = [1,3,4]\n",
        "amount = 6\n",
        "print('Greedy:', greedy_coin_change(coins, amount))\n",
        "# Solução ótima via DP\n",
        "def coin_change_dp(coins, amount):\n",
        "    dp = [float('inf')]*(amount+1)\n",
        "    dp[0] = 0\n",
        "    for i in range(1, amount+1):\n",
        "        for c in coins:\n",
        "            if i >= c:\n",
        "                dp[i] = min(dp[i], dp[i-c]+1)\n",
        "    return dp[amount]\n",
        "print('DP mínimo moedas:', coin_change_dp(coins, amount))"
      ]
    },
    {
      "cell_type": "markdown",
      "metadata": {},
      "source": [
        "### 8. Aplicações Avançadas e Estratégias\n",
        "- **Problemas NP-difíceis**: tipicamente não têm escolha gulosa; usam DP ou meta-heurísticas.\n",
        "- **Approximation Schemes**: aplicar heurísticas gulosas como ponto de partida para refinamento.\n",
        "- **Árvores de Decisão**: usar limites (branch & bound) para corrigir escolhas gulosas.\n",
        "\n"
      ]
    }
  ],
  "metadata": {
    "kernelspec": {
      "display_name": "Python 3",
      "language": "python",
      "name": "python3"
    },
    "language_info": {
      "name": "python",
      "version": "3.x"
    }
  },
  "nbformat": 4,
  "nbformat_minor": 5
}
