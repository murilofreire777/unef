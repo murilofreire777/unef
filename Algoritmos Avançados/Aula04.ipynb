{
  "cells": [
    {
      "cell_type": "markdown",
      "metadata": {},
      "source": [
        "# Aula 4: Métodos de Resolução de Recorrências\n",
        "\n",
        "Nesta aula, estudaremos as principais técnicas para resolver equações de recorrência, fundamentais para analisar a complexidade de algoritmos recursivos.\n",
        "\n",
        "Conteúdo:\n",
        "- Método da Substituição\n",
        "- Árvore de Recorrência\n",
        "- Teorema Mestre"
      ]
    },
    {
      "cell_type": "markdown",
      "metadata": {},
      "source": [
        "## Objetivos de Aprendizagem\n",
        "\n",
        "Ao final desta aula, você deverá ser capaz de:\n",
        "1. Aplicar o método da substituição para provar limites superiores e inferiores de recorrências.\n",
        "2. Construir e interpretar árvores de recorrência para estimar somas recursivas.\n",
        "3. Usar o Teorema Mestre para resolver rapidamente recorrências do tipo \\(T(n)=a\\,T(n/b)+f(n)\\)."
      ]
    },
    {
      "cell_type": "markdown",
      "metadata": {},
      "source": [
        "## 1. Método da Substituição\n",
        "\n",
        "O método da substituição consiste em **adivinhar** uma forma de solução e depois **provar** por indução que ela se mantém.\n"
      ]
    },
    {
      "cell_type": "markdown",
      "id": "b20cf2eb",
      "metadata": {},
      "source": [
        "### Passos Gerais\n",
        "1. Fazer uma hipótese: suponha que $T(n) \\le c \\cdot g(n)$ para alguma função $g(n)$.\n",
        "2. Substituir a hipótese na recorrência original.\n",
        "3. Ajustar constantes (como  $(c)$) para fechar a indução.\n"
      ]
    },
    {
      "cell_type": "code",
      "execution_count": null,
      "metadata": {},
      "outputs": [],
      "source": [
        "# Exemplo: Resolver T(n) = 2 T(n/2) + n\n",
        "import sympy as sp\n",
        "\n",
        "n, c = sp.symbols('n c', positive=True)\n",
        "g = n * sp.log(n, 2)  # hipótese: T(n) = O(n log n)\n",
        "\n",
        "# Exibindo a forma hipotética:\n",
        "g"
      ]
    },
    {
      "cell_type": "markdown",
      "id": "cb0dceec",
      "metadata": {},
      "source": [
        "### Exemplo de Prova por Indução\n",
        "\n",
        "Queremos provar que $\\ ( T(n) \\le c\\,n\\log_2 n\\ )$ para algum constante $\\ (c>0\\ )$.\n",
        "\n",
        "1. Base: para \\(n=2\\), podemos escolher $(c)$ suficientemente grande.\n",
        "2. Passo indutivo:\n",
        "\n",
        "$\\ [\n",
        "T(n) = 2T\\left( \\frac{n}{2}\\right) + n\n",
        "     \\le 2 \\left(c \\frac{n}{2} \\log_2 \\frac{n}{2}\\right) + n\n",
        "     = cn\\left( \\log_2 n - 1\\right) + n\n",
        "     = cn\\log_2 n - cn + n\n",
        "     \\le cn\\log_2 n\n",
        "\\ ]\n",
        "$\n",
        "\n",
        "Desde que $\\ ( c \\ge 1\\ )$."
      ]
    },
    {
      "cell_type": "markdown",
      "metadata": {},
      "source": [
        "# Aula 2: Métodos de Resolução de Recorrências\n",
        "\n",
        "Nesta aula, estudaremos as principais técnicas para resolver equações de recorrência, fundamentais para analisar a complexidade de algoritmos recursivos.\n",
        "\n",
        "Conteúdo:\n",
        "- Método da Substituição\n",
        "- Árvore de Recorrência\n",
        "- Teorema Mestre"
      ]
    },
    {
      "cell_type": "markdown",
      "metadata": {},
      "source": [
        "## Objetivos de Aprendizagem\n",
        "\n",
        "Ao final desta aula, você deverá ser capaz de:\n",
        "1. Aplicar o método da substituição para provar limites superiores e inferiores de recorrências.\n",
        "2. Construir e interpretar árvores de recorrência para estimar somas recursivas.\n",
        "3. Usar o Teorema Mestre para resolver rapidamente recorrências do tipo \\(T(n)=a\\,T(n/b)+f(n)\\)."
      ]
    },
    {
      "cell_type": "markdown",
      "metadata": {},
      "source": [
        "## 1. Método da Substituição\n",
        "\n",
        "O método da substituição consiste em **adivinhar** uma forma de solução e depois **provar** por indução que ela se mantém.\n"
      ]
    },
    {
      "cell_type": "markdown",
      "metadata": {},
      "source": [
        "### Passos Gerais\n",
        "1. Fazer uma hipótese: suponha que \\(T(n) \\le c \\cdot g(n)\\) para alguma função \\(g(n)\\).\n",
        "2. Substituir a hipótese na recorrência original.\n",
        "3. Ajustar constantes (como \\(c\\)) para fechar a indução.\n"
      ]
    },
    {
      "cell_type": "code",
      "execution_count": null,
      "metadata": {},
      "outputs": [],
      "source": [
        "# Exemplo: Resolver T(n) = 2 T(n/2) + n\n",
        "import sympy as sp\n",
        "\n",
        "n, c = sp.symbols('n c', positive=True)\n",
        "g = n * sp.log(n, 2)  # hipótese: T(n) = O(n log n)\n",
        "\n",
        "# Exibindo a forma hipotética:\n",
        "g"
      ]
    },
    {
      "cell_type": "markdown",
      "metadata": {},
      "source": [
        "### Exemplo de Prova por Indução\n",
        "\n",
        "Queremos provar que \\(T(n) \\le c\\,n\\log_2 n\\) para algum constante \\(c>0\\).\n",
        "\n",
        "1. Base: para \\(n=2\\), podemos escolher \\(c\\) suficientemente grande.\n",
        "2. Passo indutivo:\n",
        "\n",
        "\\[\n",
        "T(n) = 2T\\left(\\frac{n}{2}\\right) + n\n",
        "     \\le 2 \\left(c \\frac{n}{2} \\log_2 \\frac{n}{2}\\right) + n\n",
        "     = cn\\left(\\log_2 n - 1\\right) + n\n",
        "     = cn\\log_2 n - cn + n\n",
        "     \\le cn\\log_2 n\n",
        "\\]\n",
        "\n",
        "Desde que \\(c \\ge 1\\)."
      ]
    },
    {
      "cell_type": "markdown",
      "metadata": {},
      "source": [
        "## 2. Árvore de Recorrência\n",
        "\n",
        "A árvore de recorrência é uma ferramenta visual para estimar a soma total gerada por chamadas recursivas. A cada nível da árvore, calculamos o custo de todas as subproblemas naquele nível."
      ]
    },
    {
      "cell_type": "markdown",
      "metadata": {},
      "source": [
        "### Passos para Construir a Árvore\n",
        "1. **Raiz**: custo da chamada original, \\ (f(n)\\ ).\n",
        "2. **Filhos**: cada chamada gera \\ ( a\\ ) subchamadas de tamanho \\( n/b\\ ), cada uma custando \\( f(n/b)\\ ).\n",
        "3. **Contribuição de cada nível**: somar os custos de todas as chamadas naquele nível: \\(a^i \\times f\\bigl(n/b^i\\bigr)\\).\n",
        "4. **Altura da Árvore**: termina quando \\ ( n/b^L = 1\\), ou seja, \\(L = \\log_b n\\).\n",
        "5. **Estimativa da Soma**: somar as contribuições dos níveis de \\(i=0\\) até \\(L\\)."
      ]
    },
    {
      "cell_type": "code",
      "execution_count": null,
      "metadata": {},
      "outputs": [],
      "source": [
        "# Exemplo: T(n) = 3 T(n/4) + n\n",
        "def recurrence_tree(a, b, f, n, levels):\n",
        "    \"\"\"Retorna lista das contribuições em cada nível da árvore de recorrência.\"\"\"\n",
        "    return [ (a**i) * f(n / (b**i)) for i in range(levels) ]\n",
        "\n",
        "def f(x):\n",
        "    return x  # custo linear\n",
        "\n",
        "n = 1024\n",
        "levels = int((n).bit_length() / 2)  # aproximação de log_4 1024 = 5\n",
        "contribs = recurrence_tree(a=3, b=4, f=f, n=n, levels=levels+1)\n",
        "\n",
        "for i, c in enumerate(contribs):\n",
        "    print(f\"Nível {i}: contribuição = {c}\")\n",
        "\n",
        "print(\"Soma aproximada:\", sum(contribs))"
      ]
    },
    {
      "cell_type": "markdown",
      "metadata": {},
      "source": [
        "### Interpretação\n",
        "- Para \\ (T(n)=3T(n/4)+n\\ ), cada nível contribui com:\n",
        "  - Nível 0: \\ ( 1 \\times n\\ )\n",
        "  - Nível 1: \\ ( 3 \\times (n/4)\\ )\n",
        "  - Nível 2: \\( 3^2 \\times (n/4^2)\\ )\n",
        "  - ... até \\ (L = \\log_4 n\\ ).\n",
        "- A soma forma uma série geométrica dominada pelo primeiro nível, logo \\ (T(n) = \\Theta(n)\\ ) se \\ ( a < b\\ ), ou \\ (\\Theta( n \\log n)\\ ) se \\( a = b\\ ), etc.\n",
        "\n",
        "**Conclusão rápida**: Use a árvore para ver se o termo dominante é da forma \\( n^{\\log_b a}\\) ou de \\( f(n)\\), e comparar para escolher o caso do Teorema Mestre."
      ]
    },
    {
      "cell_type": "markdown",
      "metadata": {},
      "source": [
        "## 3. Teorema Mestre\n",
        "\n",
        "O Teorema Mestre fornece uma forma direta de resolver recorrências da forma:\n",
        "\n",
        "$$T(n) = a\\,T\\bigl(\\tfrac{n}{b}\\bigr) + f(n),$$\n",
        "\n",
        "onde $a\\ge1$ e $b>1$. Definimos o termo crítico $n^{\\log_b a}$ e comparamos $f(n)$ com esse termo para escolher um dos três casos abaixo."
      ]
    },
    {
      "cell_type": "markdown",
      "metadata": {},
      "source": [
        "### Enunciado dos Três Casos\n",
        "\n",
        "| Caso | Condição sobre $f(n)$                                        | Solução                                    |\n",
        "|------|---------------------------------------------------------------|--------------------------------------------|\n",
        "| 1    | $f(n) = O\\bigl(n^{\\log_b a - ε}\\bigr)$ para algum $ε>0$    | $T(n)=Θ\\bigl(n^{\\log_b a}\\bigr)$         |\n",
        "| 2    | $f(n) = Θ\\bigl(n^{\\log_b a}\\log^k n\\bigr)$, $k\\ge0$      | $T(n)=Θ\\bigl(n^{\\log_b a}\\log^{k+1}n\\bigr)$ |\n",
        "| 3    | $f(n) = Ω\\bigl(n^{\\log_b a + ε}\\bigr)$ e regularidade: $a\\,f(n/b)\\le c\\,f(n)$ para algum $c<1$ | $T(n)=Θ\\bigl(f(n)\\bigr)$                 |"
      ]
    },
    {
      "cell_type": "markdown",
      "metadata": {},
      "source": [
        "### 3.1 Exemplo 1: $T(n)=2T(n/2)+n$\n",
        "\n",
        "- Aqui $a=2$, $b=2$, logo $n^{\\log_2 2}=n^1=n$.\n",
        "- $f(n)=n = Θ(n^{\\log_2 2}\\,\\log^0 n)$, isto é, é caso 2 com $k=0$.\n",
        "- Conclusão: $$T(n)=Θ(n\\log n).$$"
      ]
    },
    {
      "cell_type": "code",
      "execution_count": null,
      "metadata": {},
      "outputs": [],
      "source": [
        "# Verificando simbolicamente o Caso 2 do Mestre\n",
        "import sympy as sp\n",
        "\n",
        "n = sp.symbols('n', positive=True)\n",
        "a, b = 2, 2\n",
        "f = n\n",
        "crit = n**(sp.log(a, b))  # n^(log_b a)\n",
        "\n",
        "print(f'Termo crítico n^(log_b a) = {crit}')\n",
        "if sp.simplify(f / crit) == 1:\n",
        "    print('Identificado Caso 2 → T(n) = Θ(n log n)')"
      ]
    },
    {
      "cell_type": "markdown",
      "metadata": {},
      "source": [
        "### 3.2 Exemplo 2: $T(n)=3T(n/4)+n^2$\n",
        "\n",
        "- Aqui $a=3$, $b=4$, então $n^{\\log_4 3}\\approx n^{0.79}$.\n",
        "- $f(n)=n^2 = Ω(n^{0.79+ε})$ para, por exemplo, $ε=1.2$, e verifica a condição de regularidade.\n",
        "- Conclusão: caso 3, $$T(n)=Θ(n^2).$$"
      ]
    },
    {
      "cell_type": "code",
      "execution_count": null,
      "metadata": {},
      "outputs": [],
      "source": [
        "# Demonstração rápida do Caso 3\n",
        "a, b = 3, 4\n",
        "f = n**2\n",
        "crit = n**(sp.log(a, b))\n",
        "\n",
        "print(f'Critério: n^(log_4 3) ≈ {sp.N(crit, 3)}')\n",
        "print('f(n)/n^(log_b a) =', sp.simplify(f/crit))\n",
        "# Verificar a condição de regularidade: a*f(n/b) <= c*f(n)\n",
        "c = 0.9\n",
        "lhs = a * ( (n/b)**2 )\n",
        "rhs = c * f\n",
        "print('Regularidade:', sp.simplify(lhs <= rhs))"
      ]
    },
    {
      "cell_type": "markdown",
      "metadata": {},
      "source": [
        "**Resumo**: o Teorema Mestre permite resolver rapidamente recorrências comuns, evitando construções de árvores e provas completas de indução, bastando comparar $f(n)$ com $n^{\\log_b a}$.  "
      ]
    }
  ],
  "metadata": {
    "kernelspec": {
      "display_name": "Python 3",
      "language": "python",
      "name": "python3"
    },
    "language_info": {
      "name": "python",
      "version": "3.x"
    }
  },
  "nbformat": 4,
  "nbformat_minor": 5
}
