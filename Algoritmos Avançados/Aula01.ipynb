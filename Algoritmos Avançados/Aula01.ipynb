{
  "cells": [
    {
      "cell_type": "markdown",
      "id": "4fd927b0",
      "metadata": {},
      "source": [
        "# Aula 1: Conceitos Avançados de Algoritmos\n",
        "\n",
        "Nesta primeira aula da disciplina **Algoritmos Avançados**, vamos revisar fundamentos essenciais para o desenvolvimento de algoritmos sofisticados. Focaremos em:\n",
        "- Representação de variáveis, tipos e estruturas de dados\n",
        "- Recursividade\n",
        "- Tentativa e erro (brute-force)\n"
      ]
    },
    {
      "cell_type": "markdown",
      "id": "acf26563",
      "metadata": {},
      "source": [
        "## Objetivos de Aprendizagem\n",
        "\n",
        "Ao final desta aula, você deverá ser capaz de:\n",
        "1. Explicar como variáveis e tipos de dados são representados em Python.\n",
        "2. Listar e usar as principais estruturas de dados embutidas.\n",
        "3. Compreender o conceito de recursividade e implementar exemplos clássicos.\n",
        "4. Entender a estratégia de tentativa e erro e quando é viável aplicá-la.\n"
      ]
    },
    {
      "cell_type": "markdown",
      "id": "aa3ca212",
      "metadata": {},
      "source": [
        "## 1. Representação de Variáveis e Tipos de Dados\n",
        "\n",
        "Em Python, uma variável é apenas um **nome** que referencia um **objeto** na memória. Cada objeto possui um tipo que define seu comportamento.\n"
      ]
    },
    {
      "cell_type": "markdown",
      "id": "fcf58934",
      "metadata": {},
      "source": [
        "### Tabela de Tipos Básicos\n",
        "\n",
        "| Tipo    | Exemplo        | Descrição                                  |\n",
        "|---------|----------------|--------------------------------------------|\n",
        "| `int`   | `42`           | Números inteiros                           |\n",
        "| `float` | `3.14`         | Números de ponto flutuante                 |\n",
        "| `str`   | `'Olá, Mundo'` | Cadeias de caracteres                       |\n",
        "| `bool`  | `True`/`False` | Booleanos                                  |\n",
        "| `None`  | `None`         | Ausência de valor                          |"
      ]
    },
    {
      "cell_type": "code",
      "execution_count": null,
      "id": "deccd093",
      "metadata": {},
      "outputs": [],
      "source": [
        "# Exemplos de atribuição e inspeção de tipos\n",
        "x = 100                # int\n",
        "pi = 3.1415            # float\n",
        "nome = \"Rosiene\"     # str\n",
        "condicao = False       # bool\n",
        "vazio = None           # NoneType\n",
        "\n",
        "for var in [x, pi, nome, condicao, vazio]:\n",
        "    print(var, type(var))"
      ]
    },
    {
      "cell_type": "markdown",
      "id": "4f8f08df",
      "metadata": {},
      "source": [
        "## 2. Estruturas de Dados Embutidas\n",
        "\n",
        "Python oferece várias estruturas de dados que facilitam a construção de algoritmos:\n",
        "- **List**: coleção ordenada, mutável\n",
        "- **Tuple**: coleção ordenada, imutável\n",
        "- **Dict**: mapeamento de chave → valor\n",
        "- **Set**: coleção não‐ordenada de elementos únicos\n"
      ]
    },
    {
      "cell_type": "markdown",
      "id": "20731e50",
      "metadata": {},
      "source": [
        "### Comparação das Estruturas\n",
        "\n",
        "| Estrutura | Mutável | Ordenada | Acesso                |\n",
        "|-----------|---------|----------|-----------------------|\n",
        "| `list`    | Sim     | Sim      | Índice (inteiro)      |\n",
        "| `tuple`   | Não     | Sim      | Índice (inteiro)      |\n",
        "| `dict`    | Sim     | Não*     | Chave (qualquer hash) |\n",
        "| `set`     | Sim     | Não      | Iteração              |"
      ]
    },
    {
      "cell_type": "code",
      "execution_count": null,
      "id": "c2113a1b",
      "metadata": {},
      "outputs": [],
      "source": [
        "# Exemplos de uso\n",
        "# Listas\n",
        "frutas = ['maçã', 'banana', 'laranja']\n",
        "frutas.append('uva')\n",
        "\n",
        "# Tuplas\n",
        "ponto = (10, 20)\n",
        "\n",
        "# Dicionários\n",
        "pessoa = {'nome': 'Ana', 'idade': 30}\n",
        "\n",
        "# Conjuntos\n",
        "letras = set(['a', 'b', 'c'])\n",
        "letras.add('d')\n",
        "\n",
        "print(frutas, ponto, pessoa, letras)"
      ]
    },
    {
      "cell_type": "markdown",
      "id": "37030a16",
      "metadata": {},
      "source": [
        "## 3. Recursividade\n",
        "\n",
        "Recursão é uma técnica onde uma função chama a si mesma para resolver subproblemas menores. É essencial em algoritmos como busca em árvores e algoritmos de divisão e conquista.\n"
      ]
    },
    {
      "cell_type": "code",
      "execution_count": null,
      "id": "c257ac00",
      "metadata": {},
      "outputs": [],
      "source": [
        "# Exemplo 1: Fatorial\n",
        "def fatorial(n):\n",
        "    \"\"\"Calcula n! recursivamente\"\"\"\n",
        "    if n <= 1:\n",
        "        return 1\n",
        "    return n * fatorial(n - 1)\n",
        "\n",
        "print('5! =', fatorial(5))  # saída: 120\n",
        "\n",
        "# Exemplo 2: Fibonacci (versão ingênua)\n",
        "def fib(n):\n",
        "    \"\"\"Fibonacci recursivo clássico\"\"\"\n",
        "    if n <= 1:\n",
        "        return n\n",
        "    return fib(n - 1) + fib(n - 2)\n",
        "\n",
        "print('fib(10) =', fib(10))  # cuidado com desempenho"
      ]
    },
    {
      "cell_type": "markdown",
      "id": "302a11c3",
      "metadata": {},
      "source": [
        "### Exemplo de Recursividade entre Duas Funções (Recursão Mútua)\n"
      ]
    },
    {
      "cell_type": "code",
      "execution_count": null,
      "id": "3d635835",
      "metadata": {},
      "outputs": [],
      "source": [
        "def is_even(n):\n",
        "    if n == 0:\n",
        "        return True\n",
        "    return is_odd(n - 1)\n",
        "\n",
        "def is_odd(n):\n",
        "    if n == 0:\n",
        "        return False\n",
        "    return is_even(n - 1)\n",
        "\n",
        "# Testes:\n",
        "print(\"10 é par?\", is_even(10))\n",
        "print(\"7 é ímpar?\", is_odd(7))\n"
      ]
    },
    {
      "cell_type": "markdown",
      "id": "66356bcd",
      "metadata": {},
      "source": [
        "### Situação-Problema: Árvore Genealógica\n",
        "\n",
        "Imagine modelar uma árvore genealógica onde cada pessoa pode ter 0, 1 ou 2 pais referenciados. Uma abordagem recursiva permite percorrer a árvore para calcular, por exemplo, a quantidade total de ancestrais.\n"
      ]
    },
    {
      "cell_type": "markdown",
      "id": "13eb2cbc",
      "metadata": {},
      "source": [
        "### Exemplo de Árvore Genealógica usando OO\n"
      ]
    },
    {
      "cell_type": "code",
      "execution_count": null,
      "id": "3ec64970",
      "metadata": {},
      "outputs": [],
      "source": [
        "class Person:\n",
        "    def __init__(self, name, parents=None):\n",
        "        self.name = name\n",
        "        self.parents = parents or []\n",
        "\n",
        "    def count_ancestors(self):\n",
        "        \"\"\"Retorna o total de ancestrais recursivamente.\"\"\"\n",
        "        total = len(self.parents)\n",
        "        for p in self.parents:\n",
        "            total += p.count_ancestors()\n",
        "        return total\n",
        "\n",
        "# Construindo uma árvore de exemplo:\n",
        "avo_paterno = Person(\"Avô Paterno\")\n",
        "avo_materno = Person(\"Avó Materna\")\n",
        "pai = Person(\"Pai\", parents=[avo_paterno])\n",
        "mae = Person(\"Mãe\", parents=[avo_materno])\n",
        "filho = Person(\"Filho\", parents=[pai, mae])\n",
        "\n",
        "print(f\"Total de ancestrais de {filho.name}: {filho.count_ancestors()}\")\n"
      ]
    },
    {
      "cell_type": "markdown",
      "id": "cb9f729b",
      "metadata": {},
      "source": [
        "## 4. Tentativa e Erro (Brute-Force)\n",
        "\n",
        "Brute‐force significa testar **todas** as combinações possíveis até encontrar a solução. É simples, mas pode explodir em tempo para espaços de busca grandes.\n"
      ]
    },
    {
      "cell_type": "code",
      "execution_count": null,
      "id": "2fa4be3f",
      "metadata": {},
      "outputs": [],
      "source": [
        "# Exemplo: forçar senha de 3 dígitos numéricos (000–999)\n",
        "def brute_force_password(target):\n",
        "    for i in range(1000):\n",
        "        attempt = f\"{i:03d}\"\n",
        "        if attempt == target:\n",
        "            return attempt\n",
        "    return None\n",
        "\n",
        "senha = \"042\"\n",
        "print('Senha encontrada:', brute_force_password(senha))"
      ]
    },
    {
      "cell_type": "markdown",
      "id": "3e0932c6",
      "metadata": {},
      "source": [
        "## Exemplos Adicionais de Tentativa e Erro (Brute-Force)\n"
      ]
    },
    {
      "cell_type": "code",
      "execution_count": null,
      "id": "ffc3729a",
      "metadata": {},
      "outputs": [],
      "source": [
        "#Tenta todas as combinações de pares em uma lista para encontrar dois números que somem ao alvo.\n",
        "def brute_two_sum(nums, target):\n",
        "    for i in range(len(nums)):\n",
        "        for j in range(i + 1, len(nums)):\n",
        "            if nums[i] + nums[j] == target:\n",
        "                return nums[i], nums[j]\n",
        "    return None\n",
        "\n",
        "print(\"Par encontrado para soma 9:\", brute_two_sum([2, 7, 11, 15], 9))\n"
      ]
    },
    {
      "cell_type": "code",
      "execution_count": null,
      "id": "6f552aea",
      "metadata": {},
      "outputs": [],
      "source": [
        "#Gera todas as permutações de uma string e verifica se alguma coincide com a segunda.\n",
        "import itertools\n",
        "\n",
        "def brute_anagram(s1, s2):\n",
        "    for perm in itertools.permutations(s1):\n",
        "        if ''.join(perm) == s2:\n",
        "            return True\n",
        "    return False\n",
        "\n",
        "print(\"‘abc’ e ‘cab’ são anagramas?\", brute_anagram('abc', 'cab'))\n"
      ]
    },
    {
      "cell_type": "markdown",
      "id": "6a1b2c7c",
      "metadata": {},
      "source": [
        "### Quando Usar Brute-Force?\n",
        "\n",
        "- Espaços de busca pequenos (ex.: senhas de 3 dígitos)\n",
        "- Prototipagem rápida quando não há método algorítmico conhecido\n",
        "- Comparar e validar soluções mais sofisticadas (benchmark)\n"
      ]
    },
    {
      "cell_type": "markdown",
      "id": "1679ae89",
      "metadata": {},
      "source": [
        "## 5. Alternativas ao Brute‐Force\n",
        "\n",
        "A seguir, apresentamos algumas técnicas que podem substituir ou complementar abordagens de força bruta, com uma breve descrição e análise de pontos fortes e fracos.\n",
        "\n",
        "| Técnica                         | Descrição breve                                         | Pontos Fortes                                                                 | Pontos Fracos                                                                      |\n",
        "|---------------------------------|---------------------------------------------------------|-------------------------------------------------------------------------------|------------------------------------------------------------------------------------|\n",
        "| **Divisão e Conquista**         | Divide recursivamente o problema em subproblemas menores| → Reduz drasticamente o tamanho do problema em cada chamada; bom para paralelismo  \n",
        "|→ Sobrehead de chamadas recursivas; nem todo problema se divide naturalmente    |\n",
        "| **Programação Dinâmica**        | Armazena (memoiza) resultados de subproblemas            | → Converte exponencial em polinomial em muitos casos; evita recomputação       | → Consome memória extra; identificar subproblemas sobrepostos pode ser complexo   |\n",
        "| **Algoritmos Gulosos**          | Faz escolha ótima local em cada etapa                   | → Geralmente simples e rápido (O(n log n) ou melhor); uso mínimo de memória     | → Nem sempre produz solução global ótima; requer prova de corretude               |\n",
        "| **Branch & Bound**              | Poda ramos da árvore de busca usando limites (bounds)   | → Mantém garantia de ótimo; reduz espaço de busca em muitos casos práticos     | → Eficácia da poda depende da qualidade dos bounds; pior caso ainda exponencial    |\n",
        "| **Hashing (Tabelas de Dispersão)** | Usa tabelas hash para busca/armazenamento rápido     | → Operações de busca/inserção O(1) médio; ideal para lookup e contagem         | → Colisões podem degradar performance; overhead de memória                         |\n",
        "| **Heurísticas / Meta-heurísticas** | Algoritmos aproximados (A*, geneticos, simulated annealing) | → Bom desempenho em problemas NP-difíceis; flexível e personalizável           | → Não garantem solução ótima; dependem de parâmetros e podem ficar presas em ótimos locais  |\n"
      ]
    },
    {
      "cell_type": "markdown",
      "id": "582de282",
      "metadata": {},
      "source": [
        "## Conclusão\n",
        "\n",
        "Nesta aula, reforçamos conceitos de **variáveis**, **tipos**, **estruturas de dados**, **recursão** e **brute-force**. Esses fundamentos serão a base para explorarmos, nas próximas aulas, paradigmas de projeto de algoritmos mais avançados."
      ]
    }
  ],
  "metadata": {
    "kernelspec": {
      "display_name": "Python 3",
      "language": "python",
      "name": "python3"
    },
    "language_info": {
      "name": "python",
      "version": "3.x"
    }
  },
  "nbformat": 4,
  "nbformat_minor": 5
}
