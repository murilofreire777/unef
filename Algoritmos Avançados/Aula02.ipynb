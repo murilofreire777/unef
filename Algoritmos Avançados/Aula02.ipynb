{
  "cells": [
    {
      "cell_type": "markdown",
      "metadata": {},
      "source": [
        "# Aula 2: Paradigmas de Projeto de Algoritmos – Visão Geral\n",
        "\n",
        "Nesta aula, faremos um panorama dos principais paradigmas de projeto de algoritmos, entendendo seu papel e aplicações."
      ]
    },
    {
      "cell_type": "markdown",
      "metadata": {},
      "source": [
        "## Objetivos de Aprendizagem\n",
        "\n",
        "Ao final desta parte, você deverá ser capaz de:\n",
        "1. Definir o que é um paradigma de projeto de algoritmos.\n",
        "2. Listar os principais paradigmas e suas características gerais.\n",
        "3. Identificar exemplos de problemas adequados a cada paradigma."
      ]
    },
    {
      "cell_type": "markdown",
      "metadata": {},
      "source": [
        "## 1. O que é um Paradigma de Projeto de Algoritmos\n",
        "\n",
        "Um **paradigma de projeto de algoritmos** é um método ou padrão estrutural que guia a construção de algoritmos para resolver classes de problemas. Ele define como decompor o problema, como combinar resultados e quais técnicas usar para otimizar desempenho e garantir corretude."
      ]
    },
    {
      "cell_type": "markdown",
      "metadata": {},
      "source": [
        "## 2. Principais Paradigmas – Visão Geral\n",
        "\n",
        "A tabela abaixo resume os paradigmas mais utilizados, com descrição e exemplos:\n",
        "| Paradigma                | Descrição                                               | Exemplos de Problemas                       |\n",
        "|---------------------------|---------------------------------------------------------|----------------------------------------------|\n",
        "| Divisão & Conquista       | Divide em subproblemas menores que são resolvidos e combinados | Merge Sort, Quick Sort                      |\n",
        "| Programação Dinâmica      | Identifica subproblemas sobrepostos e armazena resultados   | Knapsack, Fibonacci otimizado                |\n",
        "| Algoritmos Gulosos        | Escolhe a solução ótima localmente em cada passo            | Scheduling de atividades, Huffman Coding     |\n",
        "| Backtracking / Branch & Bound | Explora árvores de busca com poda de ramos inúteis      | N-Rainhas, TSP com poda                       |\n",
        "| Heurísticas / Aproximações | Usa regras ou meta-heurísticas para soluções aproximadas     | A*, Simulated Annealing, Algoritmos Genéticos |\n",
        "\n",
        "---\n",
        "#### Parte 1 de 3: Panorama geral dos paradigmas. Continuação na próxima parte."
      ]
    },
    {
      "cell_type": "markdown",
      "metadata": {},
      "source": [
        "## 3. Divisão & Conquista\n",
        "\n",
        "No paradigma de **Divisão & Conquista**, um problema de tamanho `n` é dividido em `a` subproblemas de tamanho `n/b`, resolve-se cada subproblema recursivamente e combina-se os resultados. É eficiente sempre que `a` e `b` são tais que a redução de tamanho compensa o esforço de combinar.\n"
      ]
    },
    {
      "cell_type": "code",
      "execution_count": null,
      "metadata": {},
      "outputs": [],
      "source": [
        "# Exemplo: Merge Sort implementado em Python\n",
        "def merge_sort(arr):\n",
        "    if len(arr) <= 1:\n",
        "        return arr\n",
        "    mid = len(arr) // 2\n",
        "    left = merge_sort(arr[:mid])\n",
        "    right = merge_sort(arr[mid:])\n",
        "    return merge(left, right)\n",
        "\n",
        "def merge(left, right):\n",
        "    result = []\n",
        "    i = j = 0\n",
        "    while i < len(left) and j < len(right):\n",
        "        if left[i] <= right[j]:\n",
        "            result.append(left[i])\n",
        "            i += 1\n",
        "        else:\n",
        "            result.append(right[j])\n",
        "            j += 1\n",
        "    result.extend(left[i:])\n",
        "    result.extend(right[j:])\n",
        "    return result\n",
        "\n",
        "# Teste\n",
        "arr = [38, 27, 43, 3, 9, 82, 10]\n",
        "print('Original:', arr)\n",
        "print('Ordenado:', merge_sort(arr))"
      ]
    },
    {
      "cell_type": "markdown",
      "metadata": {},
      "source": [
        "A complexidade de tempo do Merge Sort é $O(n \\ log n)$, pois dividimos o array e combinamos em tempo linear em cada um dos $\\ log n$ níveis.\\n"
      ]
    },
    {
      "cell_type": "markdown",
      "metadata": {},
      "source": [
        "## 4. Programação Dinâmica\n",
        "\n",
        "Em **Programação Dinâmica**, identificamos **subproblemas sobrepostos**, armazenamos (memoizamos) soluções já computadas e evitamos recomputação, reduzindo complexidade de tempo.\n"
      ]
    },
    {
      "cell_type": "code",
      "execution_count": null,
      "metadata": {},
      "outputs": [],
      "source": [
        "# Exemplo: Problema da Mochila 0/1\n",
        "def knapsack(weights, values, W):\n",
        "    n = len(values)\n",
        "    dp = [[0] * (W + 1) for _ in range(n + 1)]\n",
        "    for i in range(1, n + 1):\n",
        "        for w in range(W + 1):\n",
        "            if weights[i-1] <= w:\n",
        "                dp[i][w] = max(dp[i-1][w], dp[i-1][w-weights[i-1]] + values[i-1])\n",
        "            else:\n",
        "                dp[i][w] = dp[i-1][w]\n",
        "    return dp[n][W]\n",
        "\n",
        "# Teste\n",
        "weights = [2, 3, 4, 5]\n",
        "values = [3, 4, 5, 6]\n",
        "W = 5\n",
        "print('Valor máximo:', knapsack(weights, values, W))"
      ]
    },
    {
      "cell_type": "markdown",
      "metadata": {},
      "source": [
        "A tabela `dp` tem complexidade $O(nW)$ de tempo e espaço. Aqui, trocamos uma complexidade exponencial por uma solução polinomial.\n",
        "\n",
        "#### Parte 2 de 3: Exploração detalhada de Divisão & Conquista e Programação Dinâmica. Continuação na parte 3."
      ]
    },
    {
      "cell_type": "markdown",
      "metadata": {},
      "source": [
        "## 5. Algoritmos Gulosos\n",
        "\n",
        "Em **Algoritmos Gulosos**, escolhemos a melhor opção local em cada etapa, esperando obter (ou aproximar) a solução ótima global."
      ]
    },
    {
      "cell_type": "code",
      "execution_count": null,
      "metadata": {},
      "outputs": [],
      "source": [
        "# Exemplo: Escalonamento de Atividades (Activity Selection)\n",
        "def greedy_activity_selection(start, finish):\n",
        "    n = len(start)\n",
        "    selected = [0]  # sempre seleciona a primeira atividade\n",
        "    last_finish = finish[0]\n",
        "    for i in range(1, n):\n",
        "        if start[i] >= last_finish:\n",
        "            selected.append(i)\n",
        "            last_finish = finish[i]\n",
        "    return selected\n",
        "\n",
        "# Teste\n",
        "start = [1, 3, 0, 5, 8, 5]\n",
        "finish = [2, 4, 6, 7, 9, 9]\n",
        "print('Atividades selecionadas:', greedy_activity_selection(start, finish))"
      ]
    },
    {
      "cell_type": "markdown",
      "metadata": {},
      "source": [
        "A complexidade típica é $O(n \\ log n)$ devido à ordenação inicial por tempo de fim. Greedy é rápido e usa pouca memória, mas nem sempre garante ótimo."
      ]
    },
    {
      "cell_type": "markdown",
      "metadata": {},
      "source": [
        "## 6. Backtracking / Branch & Bound\n",
        "\n",
        "Essas técnicas exploram árvores de busca, mas **podam** ramos que não podem levar a soluções ótimas, reduzindo dramaticamente o espaço de busca em muitos casos."
      ]
    },
    {
      "cell_type": "code",
      "execution_count": null,
      "metadata": {},
      "outputs": [],
      "source": [
        "# Exemplo: N-Queens com Backtracking\n",
        "def solve_n_queens(n):\n",
        "    solutions = []\n",
        "    board = [-1] * n  # board[i] = coluna da rainha na linha i\n",
        "\n",
        "    def is_valid(row, col):\n",
        "        for r in range(row):\n",
        "            c = board[r]\n",
        "            if c == col or abs(c - col) == abs(r - row):\n",
        "                return False\n",
        "        return True\n",
        "\n",
        "    def backtrack(row):\n",
        "        if row == n:\n",
        "            solutions.append(board.copy())\n",
        "            return\n",
        "        for col in range(n):\n",
        "            if is_valid(row, col):\n",
        "                board[row] = col\n",
        "                backtrack(row + 1)\n",
        "\n",
        "    backtrack(0)\n",
        "    return solutions\n",
        "\n",
        "# Teste\n",
        "print('Soluções 4-Queens:', solve_n_queens(4))"
      ]
    },
    {
      "cell_type": "markdown",
      "metadata": {},
      "source": [
        "Backtracking puro pode ser exponencial, mas a poda reduz casos explorados. Branch & Bound adiciona limites para cortar ainda mais."
      ]
    },
    {
      "cell_type": "markdown",
      "metadata": {},
      "source": [
        "## 7. Heurísticas / Aproximações\n",
        "\n",
        "Quando problemas são NP-difíceis, heurísticas e meta-heurísticas (como Simulated Annealing ou Algoritmos Genéticos) fornecem soluções boas em tempo razoável, sem garantir ótimo."
      ]
    },
    {
      "cell_type": "code",
      "execution_count": null,
      "metadata": {},
      "outputs": [],
      "source": [
        "# Exemplo simples: Nearest Neighbor para TSP (aproximação)\n",
        "import math\n",
        "def distance(p1, p2):\n",
        "    return math.hypot(p1[0]-p2[0], p1[1]-p2[1])\n",
        "\n",
        "def tsp_nn(points):\n",
        "    tour = [0]\n",
        "    unvisited = set(range(1, len(points)))\n",
        "    while unvisited:\n",
        "        last = tour[-1]\n",
        "        next_city = min(unvisited, key=lambda x: distance(points[last], points[x]))\n",
        "        tour.append(next_city)\n",
        "        unvisited.remove(next_city)\n",
        "    tour.append(0)  # retorna ao ponto inicial\n",
        "    return tour\n",
        "\n",
        "# Teste\n",
        "points = [(0,0),(1,5),(5,2),(6,6)]\n",
        "print('Rota aproximada:', tsp_nn(points))"
      ]
    },
    {
      "cell_type": "markdown",
      "metadata": {},
      "source": [
        "Nearest Neighbor é rápido, $O(n^2)$, mas pode gerar tours longe do ótimo. Meta-heurísticas incluem parâmetros adicionais e buscas locais.\n",
        "\n"
      ]
    }
  ],
  "metadata": {
    "kernelspec": {
      "display_name": "Python 3",
      "language": "python",
      "name": "python3"
    },
    "language_info": {
      "name": "python",
      "version": "3.x"
    }
  },
  "nbformat": 4,
  "nbformat_minor": 5
}
