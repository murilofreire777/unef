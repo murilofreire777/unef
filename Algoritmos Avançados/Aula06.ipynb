{
  "cells": [
    {
      "cell_type": "markdown",
      "id": "3d980ff7",
      "metadata": {},
      "source": [
        "# Aula 6: Programação Dinâmica\n",
        "\n",
        "Nesta aula, vamos explorar o paradigma de **Programação Dinâmica**, entendendo seus fundamentos, quando aplicá-lo, diferenças entre memoização e tabulação, exemplos práticos, otimizações de espaço e aplicações avançadas."
      ]
    },
    {
      "cell_type": "markdown",
      "id": "5b760c41",
      "metadata": {},
      "source": [
        "## Objetivos de Aprendizagem\n",
        "\n",
        "Ao final desta aula, você deverá ser capaz de:\n",
        "1. Definir Programação Dinâmica e reconhecer subestrutura ótima e subproblemas sobrepostos.\n",
        "2. Diferenciar memoização (top-down) e tabulação (bottom-up).\n",
        "3. Implementar exemplos clássicos de PD.\n",
        "4. Otimizar o uso de memória usando rolling arrays.\n",
        "5. Aplicar PD em problemas avançados como LCS."
      ]
    },
    {
      "cell_type": "markdown",
      "id": "d240fc5a",
      "metadata": {},
      "source": [
        "## Fundamentos e Fibonacci\n",
        "\n",
        "### 1. O que é Programação Dinâmica?\n",
        "PD é usada quando há **subproblemas sobrepostos** e **subestrutura ótima**, permitindo reaproveitar cálculos e construir soluções ótimas.\n",
        "\n",
        "#### 1.1 Subproblemas Sobrepostos  \n",
        "Se, ao resolver $(T(n))$, você acaba recalculando o mesmo $(T(m))$ várias vezes, há sobreposição: vale a pena **armazenar** o resultado.\n",
        "\n",
        "#### 1.2 Subestrutura Ótima  \n",
        "A solução ótima para o problema maior **contém** soluções ótimas para cada subproblema. Sem isso, não dá para compor uma solução global de pedaços ótimos.\n",
        "\n",
        "### 2. Memoização vs. Tabulação\n",
        "- **Memoização** (top-down): recursivo com cache.\n",
        "1. **Escreva** a solução recursiva “ingênua”.  \n",
        "2. **Adicione** um dicionário (cache) que guarda `dp[n]`.  \n",
        "3. Ao entrar em `f(n)`, primeiro verifica se `dp[n]` já existe.  \n",
        "4. Se não existe, calcula, armazena em `dp[n]` e retorna; senão, retorna imediatamente do cache.\n",
        "\n",
        "- **Tabulação** (bottom-up): preenche tabela iterativa.\n",
        "1. Crie um array dp[0..n].\n",
        "2. Defina casos base em dp[0], dp[1].\n",
        "3. Itere de i=2 até n, preenchendo dp[i] com base em dp[<i].\n",
        "\n",
        "### 3. Exemplo: Fibonacci\n",
        "Compare recursão ingênua, memoização e tabulação para $F_n$."
      ]
    },
    {
      "cell_type": "code",
      "execution_count": null,
      "id": "da47521a",
      "metadata": {},
      "outputs": [],
      "source": [
        "# Fibonacci: ingênuo vs memo vs tab\n",
        "import time\n",
        "def fib_naive(n):\n",
        "    if n <= 1: return n\n",
        "    return fib_naive(n-1) + fib_naive(n-2)\n",
        "def fib_memo(n, cache={}):\n",
        "    if n in cache: return cache[n]\n",
        "    cache[n] = n if n <=1 else fib_memo(n-1, cache) + fib_memo(n-2, cache)\n",
        "    return cache[n]\n",
        "def fib_tab(n):\n",
        "    dp = [0]*(n+1)\n",
        "    dp[1] = 1\n",
        "    for i in range(2,n+1): dp[i] = dp[i-1]+dp[i-2]\n",
        "    return dp[n]\n",
        "for fn in (fib_naive, fib_memo, fib_tab):\n",
        "    start = time.time()\n",
        "    print(fn.__name__, fn(30), f'tempo={time.time()-start:.4f}s')"
      ]
    },
    {
      "cell_type": "markdown",
      "id": "2513e13e",
      "metadata": {},
      "source": [
        "## Tabelas de DP e Exemplos Clássicos\n",
        "\n",
        "### 4. Problema da Mochila 0/1 (Tabulação)\n",
        "Maximizar valor com peso limitado usando DP bottom-up.\n",
        "\n",
        "Capacidade \n",
        "𝑊, itens 𝑖=1…𝑁 i=1…N com peso 𝑤𝑖 e valor 𝑣𝑖."
      ]
    },
    {
      "cell_type": "code",
      "execution_count": null,
      "id": "de8e91a2",
      "metadata": {},
      "outputs": [],
      "source": [
        "def knapsack(weights, values, W):\n",
        "    n = len(values)\n",
        "    dp = [[0]*(W+1) for _ in range(n+1)]\n",
        "    for i in range(1,n+1):\n",
        "        for w in range(W+1):\n",
        "            dp[i][w] = (max(dp[i-1][w], dp[i-1][w-weights[i-1]]+values[i-1])\n",
        "                        if weights[i-1]<=w else dp[i-1][w])\n",
        "    return dp[n][W]\n",
        "print('Mochila:', knapsack([2,3,4,5],[3,4,5,6],5))"
      ]
    },
    {
      "cell_type": "markdown",
      "id": "6f1cf594",
      "metadata": {},
      "source": [
        "### 5. Caminhos em Grade\n",
        "Contar caminhos em grade m×n movendo-se apenas para direita/baixo."
      ]
    },
    {
      "cell_type": "code",
      "execution_count": null,
      "id": "fa8cfcf0",
      "metadata": {},
      "outputs": [],
      "source": [
        "def grid_paths(m,n):\n",
        "    dp = [[0]*(n+1) for _ in range(m+1)]\n",
        "    dp[0][0]=1\n",
        "    for i in range(m+1):\n",
        "        for j in range(n+1):\n",
        "            if i>0: dp[i][j]+=dp[i-1][j]\n",
        "            if j>0: dp[i][j]+=dp[i][j-1]\n",
        "    return dp[m][n]\n",
        "print('Caminhos 3x3:', grid_paths(3,3))"
      ]
    },
    {
      "cell_type": "markdown",
      "id": "6e442d5d",
      "metadata": {},
      "source": [
        "## Otimizações e Aplicações Avançadas\n"
      ]
    },
    {
      "cell_type": "markdown",
      "id": "966a4565",
      "metadata": {},
      "source": [
        "### 6. Otimização de Espaço com Rolling Arrays\n",
        "Em muitos DP, podemos reduzir espaço de $O(nW)$ ou $O(mn)$ para $O(W)$ ou $O(n)$ usando vetores circulares.\n",
        "\n",
        "Se dp[i] depende apenas de dp[i-1], podemos manter apenas 2 linhas ou até 1 vetor:"
      ]
    },
    {
      "cell_type": "code",
      "execution_count": null,
      "id": "cd99e86d",
      "metadata": {},
      "outputs": [],
      "source": [
        "def fib_1d(n):\n",
        "    a, b = 0, 1\n",
        "    for _ in range(2, n+1):\n",
        "        a, b = b, a + b\n",
        "    return b\n"
      ]
    },
    {
      "cell_type": "code",
      "execution_count": null,
      "id": "470df2f3",
      "metadata": {},
      "outputs": [],
      "source": [
        "# Mochila 1D\n",
        "def knapsack_1d(weights, values, W):\n",
        "    dp = [0]*(W+1)\n",
        "    for i in range(len(weights)):\n",
        "        for w in range(W, weights[i]-1, -1):\n",
        "            dp[w] = max(dp[w], dp[w-weights[i]]+values[i])\n",
        "    return dp[W]\n",
        "print('Mochila 1D:', knapsack_1d([2,3,4,5],[3,4,5,6],5))"
      ]
    },
    {
      "cell_type": "markdown",
      "id": "49676452",
      "metadata": {},
      "source": [
        "# Caminhos em Grade 1D\n",
        "````python\n",
        "def grid_paths_1d(m,n):\n",
        "    dp = [1]*(n+1)\n",
        "    for i in range(1,m+1):\n",
        "        for j in range(1,n+1):\n",
        "            dp[j] += dp[j-1]\n",
        "    return dp[n]\n",
        "print('Caminhos 3x3 (1D):', grid_paths_1d(3,3))\n",
        "````"
      ]
    },
    {
      "cell_type": "markdown",
      "id": "2831659e",
      "metadata": {},
      "source": [
        "### 7. Aplicação Avançada: Subsequência Comum Máxima (LCS)\n",
        "Encontrar maior subsequência compartilhada entre duas strings."
      ]
    },
    {
      "cell_type": "code",
      "execution_count": null,
      "id": "33dd312a",
      "metadata": {},
      "outputs": [],
      "source": [
        "def lcs(a,b):\n",
        "    m,n = len(a), len(b)\n",
        "    dp = [[0]*(n+1) for _ in range(m+1)]\n",
        "    for i in range(1,m+1):\n",
        "        for j in range(1,n+1):\n",
        "            dp[i][j] = dp[i-1][j-1]+1 if a[i-1]==b[j-1] else max(dp[i-1][j], dp[i][j-1])\n",
        "    return dp[m][n]\n",
        "print('LCS:', lcs('AGGTAB','GXTXAYB'))"
      ]
    },
    {
      "cell_type": "markdown",
      "id": "30867bc3",
      "metadata": {},
      "source": [
        "Complexidade $O(mn)$ de tempo e espaço; pode-se otimizar espaço para $O(n)$ similar aos exemplos anteriores.\n",
        "\n"
      ]
    },
    {
      "cell_type": "markdown",
      "id": "e504fd0a",
      "metadata": {},
      "source": [
        "### 8. Quando Usar Programação Dinâmica\n",
        "Problemas com subproblemas sobrepostos.\n",
        "\n",
        "Há subestrutura ótima.\n",
        "\n",
        "Ex.: Fibonacci, Knapsack, LCS, edit distance, corte de hastes, etc.\n",
        "\n",
        "Em problemas sem sobreposição, PD pode ser um exagero — prefira Divisão & Conquista.\n",
        "\n",
        "### 9. Pitfalls & Dicas\n",
        "Dimensionar corretamente as tabelas.\n",
        "\n",
        "Identificar a ordem de preenchimento (geralmente “menor para maior”).\n",
        "\n",
        "Cuidado com condições de contorno (casos base).\n",
        "\n",
        "Prefira tabulação quando o grafo de dependências é simples e evita recursão profunda.\n"
      ]
    }
  ],
  "metadata": {
    "kernelspec": {
      "display_name": "Python 3",
      "language": "python",
      "name": "python3"
    },
    "language_info": {
      "name": "python",
      "version": "3.x"
    }
  },
  "nbformat": 4,
  "nbformat_minor": 5
}
