{
  "cells": [
    {
      "cell_type": "markdown",
      "id": "3d980ff7",
      "metadata": {},
      "source": [
        "# Aula 6: Programação Dinâmica\n",
        "\n",
        "Nesta aula, vamos explorar o paradigma de **Programação Dinâmica**, entendendo seus fundamentos, quando aplicá-lo, diferenças entre memoização e tabulação, exemplos práticos, otimizações de espaço e aplicações avançadas."
      ]
    },
    {
      "cell_type": "markdown",
      "id": "5b760c41",
      "metadata": {},
      "source": [
        "## Objetivos de Aprendizagem\n",
        "\n",
        "Ao final desta aula, você deverá ser capaz de:\n",
        "1. Definir Programação Dinâmica e reconhecer subestrutura ótima e subproblemas sobrepostos.\n",
        "2. Diferenciar memoização (top-down) e tabulação (bottom-up).\n",
        "3. Implementar exemplos clássicos de PD.\n",
        "4. Otimizar o uso de memória usando rolling arrays.\n",
        "5. Aplicar PD em problemas avançados como LCS."
      ]
    },
    {
      "cell_type": "markdown",
      "id": "d240fc5a",
      "metadata": {},
      "source": [
        "## Parte 1/3: Fundamentos e Fibonacci\n",
        "\n",
        "### 1. O que é Programação Dinâmica?\n",
        "PD é usada quando há **subproblemas sobrepostos** e **subestrutura ótima**, permitindo reaproveitar cálculos e construir soluções ótimas.\n",
        "\n",
        "### 2. Memoização vs. Tabulação\n",
        "- **Memoização** (top-down): recursivo com cache.\n",
        "- **Tabulação** (bottom-up): preenche tabela iterativa.\n",
        "\n",
        "### 3. Exemplo: Fibonacci\n",
        "Compare recursão ingênua, memoização e tabulação para $F_n$."
      ]
    },
    {
      "cell_type": "code",
      "execution_count": null,
      "id": "da47521a",
      "metadata": {},
      "outputs": [],
      "source": [
        "# Fibonacci: ingênuo vs memo vs tab\n",
        "import time\n",
        "def fib_naive(n):\n",
        "    if n <= 1: return n\n",
        "    return fib_naive(n-1) + fib_naive(n-2)\n",
        "def fib_memo(n, cache={}):\n",
        "    if n in cache: return cache[n]\n",
        "    cache[n] = n if n <=1 else fib_memo(n-1, cache) + fib_memo(n-2, cache)\n",
        "    return cache[n]\n",
        "def fib_tab(n):\n",
        "    dp = [0]*(n+1)\n",
        "    dp[1] = 1\n",
        "    for i in range(2,n+1): dp[i] = dp[i-1]+dp[i-2]\n",
        "    return dp[n]\n",
        "for fn in (fib_naive, fib_memo, fib_tab):\n",
        "    start = time.time()\n",
        "    print(fn.__name__, fn(30), f'tempo={time.time()-start:.4f}s')"
      ]
    },
    {
      "cell_type": "markdown",
      "id": "7e3b794f",
      "metadata": {},
      "source": [
        "#### Fim Parte 1/3. A seguir, exemplos de tabelas de DP (Mochila e Caminhos)."
      ]
    },
    {
      "cell_type": "markdown",
      "id": "2513e13e",
      "metadata": {},
      "source": [
        "## Parte 2/3: Tabelas de DP e Exemplos Clássicos\n",
        "\n",
        "### 4. Problema da Mochila 0/1 (Tabulação)\n",
        "Maximizar valor com peso limitado usando DP bottom-up."
      ]
    },
    {
      "cell_type": "code",
      "execution_count": null,
      "id": "de8e91a2",
      "metadata": {},
      "outputs": [],
      "source": [
        "def knapsack(weights, values, W):\n",
        "    n = len(values)\n",
        "    dp = [[0]*(W+1) for _ in range(n+1)]\n",
        "    for i in range(1,n+1):\n",
        "        for w in range(W+1):\n",
        "            dp[i][w] = (max(dp[i-1][w], dp[i-1][w-weights[i-1]]+values[i-1])\n",
        "                        if weights[i-1]<=w else dp[i-1][w])\n",
        "    return dp[n][W]\n",
        "print('Mochila:', knapsack([2,3,4,5],[3,4,5,6],5))"
      ]
    },
    {
      "cell_type": "markdown",
      "id": "6f1cf594",
      "metadata": {},
      "source": [
        "### 5. Caminhos em Grade\n",
        "Contar caminhos em grade m×n movendo-se apenas para direita/baixo."
      ]
    },
    {
      "cell_type": "code",
      "execution_count": null,
      "id": "fa8cfcf0",
      "metadata": {},
      "outputs": [],
      "source": [
        "def grid_paths(m,n):\n",
        "    dp = [[0]*(n+1) for _ in range(m+1)]\n",
        "    dp[0][0]=1\n",
        "    for i in range(m+1):\n",
        "        for j in range(n+1):\n",
        "            if i>0: dp[i][j]+=dp[i-1][j]\n",
        "            if j>0: dp[i][j]+=dp[i][j-1]\n",
        "    return dp[m][n]\n",
        "print('Caminhos 3x3:', grid_paths(3,3))"
      ]
    },
    {
      "cell_type": "markdown",
      "id": "9d23df3b",
      "metadata": {},
      "source": [
        "#### Fim Parte 2/3. Próxima: otimizações de espaço e aplicações avançadas."
      ]
    },
    {
      "cell_type": "markdown",
      "id": "6e442d5d",
      "metadata": {},
      "source": [
        "## Parte 3/3: Otimizações e Aplicações Avançadas\n"
      ]
    },
    {
      "cell_type": "markdown",
      "id": "966a4565",
      "metadata": {},
      "source": [
        "### 6. Otimização de Espaço com Rolling Arrays\n",
        "Em muitos DP, podemos reduzir espaço de $O(nW)$ ou $O(mn)$ para $O(W)$ ou $O(n)$ usando vetores circulares."
      ]
    },
    {
      "cell_type": "code",
      "execution_count": null,
      "id": "470df2f3",
      "metadata": {},
      "outputs": [],
      "source": [
        "# Mochila 1D\n",
        "def knapsack_1d(weights, values, W):\n",
        "    dp = [0]*(W+1)\n",
        "    for i in range(len(weights)):\n",
        "        for w in range(W, weights[i]-1, -1):\n",
        "            dp[w] = max(dp[w], dp[w-weights[i]]+values[i])\n",
        "    return dp[W]\n",
        "print('Mochila 1D:', knapsack_1d([2,3,4,5],[3,4,5,6],5))"
      ]
    },
    {
      "cell_type": "markdown",
      "id": "49676452",
      "metadata": {},
      "source": [
        "# Caminhos em Grade 1D\n",
        "def grid_paths_1d(m,n):\n",
        "    dp = [1]*(n+1)\n",
        "    for i in range(1,m+1):\n",
        "        for j in range(1,n+1):\n",
        "            dp[j] += dp[j-1]\n",
        "    return dp[n]\n",
        "print('Caminhos 3x3 (1D):', grid_paths_1d(3,3))"
      ]
    },
    {
      "cell_type": "markdown",
      "id": "2831659e",
      "metadata": {},
      "source": [
        "### 7. Aplicação Avançada: Subsequência Comum Máxima (LCS)\n",
        "Encontrar maior subsequência compartilhada entre duas strings."
      ]
    },
    {
      "cell_type": "code",
      "execution_count": null,
      "id": "33dd312a",
      "metadata": {},
      "outputs": [],
      "source": [
        "def lcs(a,b):\n",
        "    m,n = len(a), len(b)\n",
        "    dp = [[0]*(n+1) for _ in range(m+1)]\n",
        "    for i in range(1,m+1):\n",
        "        for j in range(1,n+1):\n",
        "            dp[i][j] = dp[i-1][j-1]+1 if a[i-1]==b[j-1] else max(dp[i-1][j], dp[i][j-1])\n",
        "    return dp[m][n]\n",
        "print('LCS:', lcs('AGGTAB','GXTXAYB'))"
      ]
    },
    {
      "cell_type": "markdown",
      "id": "30867bc3",
      "metadata": {},
      "source": [
        "Complexidade $O(mn)$ de tempo e espaço; pode-se otimizar espaço para $O(n)$ similar aos exemplos anteriores.\n",
        "\n"
      ]
    }
  ],
  "metadata": {
    "kernelspec": {
      "display_name": "Python 3",
      "language": "python",
      "name": "python3"
    },
    "language_info": {
      "name": "python",
      "version": "3.x"
    }
  },
  "nbformat": 4,
  "nbformat_minor": 5
}
