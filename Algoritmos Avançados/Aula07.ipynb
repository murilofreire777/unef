{
  "cells": [
    {
      "cell_type": "markdown",
      "metadata": {},
      "source": [
        "# Aula 7: Técnicas de Backtracking e Branch & Bound\n",
        "\n",
        "Nesta aula, vamos estudar duas técnicas de busca exaustiva e otimização de busca: **Backtracking** e **Branch & Bound**."
      ]
    },
    {
      "cell_type": "markdown",
      "metadata": {},
      "source": [
        "## Backtracking – Fundamentos e Subconjuntos\n",
        "\n",
        "### Objetivos desta parte\n",
        "1. Entender a técnica de Backtracking e sua aplicação em buscas exaustivas.\n",
        "2. Aprender a estruturar o algoritmo de Backtracking em pseudocódigo.\n",
        "3. Implementar geração de todas as subsequências (subsets) de um conjunto."
      ]
    },
    {
      "cell_type": "markdown",
      "metadata": {},
      "source": [
        "## 1. Fundamentação Conceitual\n",
        "\n",
        "### 1.1 O que é Backtracking?\n",
        "\n",
        "- É uma técnica de **busca exaustiva** em espaço de soluções.  \n",
        "- Constrói **passo a passo** um “candidato” e **retrocede** (backtrack) assim que detecta que não pode produzir uma solução válida.  \n",
        "- Explora implicitamente uma **árvore de decisão**: cada nível corresponde a uma escolha.\n",
        "\n",
        "### 1.2 Poda de Ramos\n",
        "\n",
        "- **Poda** significa descartar imediatamente subárvores que não podem conter soluções válidas ou ótimas.  \n",
        "- Em Backtracking puro, a poda é lógica (“válido?”).  \n",
        "- Em Branch & Bound adicionamos um **bound** (limite) numérico para poda de otimização.\n"
      ]
    },
    {
      "cell_type": "markdown",
      "metadata": {},
      "source": [
        "## 2. Estrutura Genérica\n",
        "\n",
        "### 2.1 Pseudocódigo Backtracking\n",
        "\n",
        "```python\n",
        "BACKTRACK(estado):\n",
        "    if é_solucao_completa(estado):\n",
        "        registrar(estado)\n",
        "        return\n",
        "    for escolha in opcoes(estado):\n",
        "        if valida(estado, escolha):\n",
        "            aplicar(estado, escolha)\n",
        "            BACKTRACK(estado)\n",
        "            desfazer(estado, escolha)"
      ]
    },
    {
      "cell_type": "markdown",
      "id": "c5508b41",
      "metadata": {},
      "source": [
        "![Backtracking](backtracking.png)"
      ]
    },
    {
      "cell_type": "markdown",
      "metadata": {},
      "source": [
        "### 3. Exemplo Prático: Geração de Subsequences (Subsets)\n",
        "```python\n",
        "def generate_subsets(nums):\n",
        "    result = []\n",
        "    subset = []\n",
        "    def backtrack(start):\n",
        "        result.append(subset.copy())\n",
        "        for i in range(start, len(nums)):\n",
        "            subset.append(nums[i])\n",
        "            backtrack(i + 1)\n",
        "            subset.pop()\n",
        "    backtrack(0)\n",
        "    return result\n",
        "# Teste\n",
        "print(generate_subsets([1,2,3]))\n",
        "```\n",
        "**Complexidade**: O(2^n), pois todas as combinações são exploradas."
      ]
    },
    {
      "cell_type": "markdown",
      "metadata": {},
      "source": [
        "---\n",
        "## Branch & Bound – Otimização de Busca\n"
      ]
    },
    {
      "cell_type": "markdown",
      "metadata": {},
      "source": [
        "### 1. O que é Branch & Bound?\n",
        "- Variante de Backtracking que calcula um **bound**, estimativa otimista do melhor valor possível a partir do estado atual.\n",
        "- Se bound ≤ melhor solução atual, o ramo é podado."
      ]
    },
    {
      "cell_type": "markdown",
      "metadata": {},
      "source": [
        "### 2. Estrutura Geral (Pseudocódigo)\n",
        "```python\n",
        "BB(node, valor_atual):\n",
        "    if node é folha:\n",
        "        atualizar_melhor(valor_atual)\n",
        "        return\n",
        "    if bound(node, valor_atual) ≤ melhor_valor:\n",
        "        return           # poda por bound\n",
        "    for escolha em expande(node):\n",
        "        BB(child, novo_valor)\n",
        "\n",
        "```"
      ]
    },
    {
      "cell_type": "markdown",
      "metadata": {},
      "source": [
        "---\n",
        "### 3. Aplicações Avançadas e Limitações\n",
        "\n",
        "#### 1. Sudoku Solver (Backtracking)\n",
        "\n",
        "![Sudoku](sudoku.png)\n",
        "\n",
        "\n",
        "```python\n",
        "def solve_sudoku(board):\n",
        "    for i in range(9):\n",
        "        for j in range(9):\n",
        "            if board[i][j] == 0:\n",
        "                for val in range(1,10):\n",
        "                    if is_valid(board, i, j, val):\n",
        "                        board[i][j] = val\n",
        "                        if solve_sudoku(board): return True\n",
        "                        board[i][j] = 0\n",
        "                return False\n",
        "    return True\n",
        "```\n",
        "**Complexidade:** exponencial no pior caso, mas poda intensa via is_valid.\n",
        "\n",
        "**Aplicação:** quebra de problema em célula vazia + 9 escolhas + recursão."
      ]
    },
    {
      "cell_type": "markdown",
      "id": "bc7f7742",
      "metadata": {},
      "source": [
        "#### Knapsack 0/1 (Branch & Bound)\n",
        "```python\n",
        "import heapq\n",
        "\n",
        "def knapsack_bb(weights, values, W):\n",
        "    n = len(values)\n",
        "    best = 0\n",
        "\n",
        "    def bound(i, cw, cv):\n",
        "        if cw >= W: return 0\n",
        "        b = cv; tot = cw\n",
        "        for j in range(i, n):\n",
        "            if tot + weights[j] <= W:\n",
        "                tot += weights[j]\n",
        "                b += values[j]\n",
        "            else:\n",
        "                remain = W - tot\n",
        "                b += values[j] * remain / weights[j]\n",
        "                break\n",
        "        return b\n",
        "\n",
        "    def dfs(i, cw, cv):\n",
        "        nonlocal best\n",
        "        if i == n:\n",
        "            best = max(best, cv); return\n",
        "        if bound(i, cw, cv) <= best:\n",
        "            return\n",
        "        # inclui\n",
        "        if cw + weights[i] <= W:\n",
        "            dfs(i+1, cw+weights[i], cv+values[i])\n",
        "        # não inclui\n",
        "        dfs(i+1, cw, cv)\n",
        "\n",
        "    dfs(0, 0, 0)\n",
        "    return best\n",
        "\n",
        "# Teste\n",
        "print(knapsack_bb([2,3,4,5], [3,4,5,6], 5))\n",
        "```\n"
      ]
    },
    {
      "cell_type": "markdown",
      "metadata": {},
      "source": [
        "### 4. Quando Usar Cada Técnica\n",
        "- **Backtracking**: problemas de decisão ou enumeração com poda simples (n-queens, subsets).\n",
        "\n",
        "- **Branch & Bound**: problemas de otimização com bound eficaz (knapsack, TSP de pequeno porte).\n",
        "\n",
        "- **Limitações**: ambos são exponenciais no pior caso; para instâncias grandes, preferir DP ou heurísticas.\n",
        "\n",
        "### 5. Pitfalls e Dicas\n",
        "- **Ordenação de escolhas:** escolha heurística boa pode acelerar poda.\n",
        "\n",
        "- **Esvaziar estruturas:** ao fazer backtrack, sempre desfazer alterações.\n",
        "\n",
        "- **Limites:** bound muito fraco não poda; bound muito custoso prejudica.\n",
        "\n",
        "- **Recursão:** cuidado com profundidade máxima de pilha."
      ]
    }
  ],
  "metadata": {
    "kernelspec": {
      "display_name": "Python 3",
      "language": "python",
      "name": "python3"
    },
    "language_info": {
      "name": "python",
      "version": "3.x"
    }
  },
  "nbformat": 4,
  "nbformat_minor": 5
}
