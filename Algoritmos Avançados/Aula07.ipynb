{
  "cells": [
    {
      "cell_type": "markdown",
      "metadata": {},
      "source": [
        "# Aula 7: Técnicas de Backtracking e Branch & Bound\n",
        "\n",
        "Nesta aula, vamos estudar duas técnicas de busca exaustiva e otimização de busca: **Backtracking** e **Branch & Bound**."
      ]
    },
    {
      "cell_type": "markdown",
      "metadata": {},
      "source": [
        "## Parte 1/3: Backtracking – Fundamentos e Subconjuntos\n",
        "\n",
        "### Objetivos desta parte\n",
        "1. Entender a técnica de Backtracking e sua aplicação em buscas exaustivas.\n",
        "2. Aprender a estruturar o algoritmo de Backtracking em pseudocódigo.\n",
        "3. Implementar geração de todas as subsequências (subsets) de um conjunto."
      ]
    },
    {
      "cell_type": "markdown",
      "metadata": {},
      "source": [
        "### 1. O que é Backtracking?\n",
        "- Técnica de **busca exaustiva** que constrói soluções incrementalmente e **retrocede** (backtrack) ao detectar escolhas inválidas.\n",
        "- Explora uma **árvore de decisão**, podando ramos ao identificar falhas."
      ]
    },
    {
      "cell_type": "markdown",
      "metadata": {},
      "source": [
        "### 2. Estrutura Geral (Pseudocódigo)\n",
        "```pseudocode\n",
        "BACKTRACK(estado):\n",
        "    if é_solucao(estado):\n",
        "        registrar(estado)\n",
        "        return\n",
        "    for escolha in opcoes(estado):\n",
        "        if valida(estado, escolha):\n",
        "            aplicar(estado, escolha)\n",
        "            BACKTRACK(estado)\n",
        "            desfazer(estado, escolha)\n",
        "```"
      ]
    },
    {
      "cell_type": "markdown",
      "metadata": {},
      "source": [
        "### 3. Exemplo Prático: Geração de Subsequences (Subsets)\n",
        "```python",
        "def generate_subsets(nums):\n",
        "    result = []\n",
        "    subset = []\n",
        "    def backtrack(start):\n",
        "        result.append(subset.copy())\n",
        "        for i in range(start, len(nums)):\n",
        "            subset.append(nums[i])\n",
        "            backtrack(i + 1)\n",
        "            subset.pop()\n",
        "    backtrack(0)\n",
        "    return result\n",
        "# Teste\n",
        "print(generate_subsets([1,2,3]))",
        "```\n",
        "**Complexidade**: O(2^n), pois todas as combinações são exploradas."
      ]
    },
    {
      "cell_type": "markdown",
      "metadata": {},
      "source": [
        "---\n",
        "## Parte 2/3: Branch & Bound – Otimização de Busca\n",
        "\n",
        "### Objetivos desta parte\n",
        "1. Compreender o uso de **limites (bounds)** para podar ramos não promissores.\n",
        "2. Estruturar Branch & Bound em pseudocódigo.\n",
        "3. Implementar 0/1 Knapsack usando Branch & Bound."
      ]
    },
    {
      "cell_type": "markdown",
      "metadata": {},
      "source": [
        "### 1. O que é Branch & Bound?\n",
        "- Variante de Backtracking que calcula um **bound**, estimativa otimista do melhor valor possível a partir do estado atual.\n",
        "- Se bound ≤ melhor solução atual, o ramo é podado."
      ]
    },
    {
      "cell_type": "markdown",
      "metadata": {},
      "source": [
        "### 2. Estrutura Geral (Pseudocódigo)\n",
        "```pseudocode\n",
        "BB(node, valor_atual):\n",
        "    se node é folha: atualizar_melhor(valor_atual) e retornar\n",
        "    if bound(node, valor_atual) ≤ melhor: retornar  # poda\n",
        "    para cada child em expande(node):\n",
        "        BB(child, valor(child, valor_atual))\n",
        "```"
      ]
    },
    {
      "cell_type": "markdown",
      "metadata": {},
      "source": [
        "### 3. Exemplo: Knapsack 0/1\n",
        "```python",
        "def knapsack_bb(weights, values, W):\n",
        "    n = len(values)\n",
        "    best = 0\n",
        "    def bound(i, w, v):\n",
        "        if w >= W: return 0\n",
        "        b = v; total = w\n",
        "        for j in range(i, n):\n",
        "            if total + weights[j] <= W:\n",
        "                total += weights[j]; b += values[j]\n",
        "            else:\n",
        "                remain = W - total\n",
        "                b += values[j] * remain / weights[j]; break\n",
        "        return b\n",
        "    def dfs(i, w, v):\n",
        "        nonlocal best\n",
        "        if i == n: best = max(best, v); return\n",
        "        if bound(i, w, v) <= best: return\n",
        "        if w + weights[i] <= W: dfs(i+1, w+weights[i], v+values[i])\n",
        "        dfs(i+1, w, v)\n",
        "    dfs(0,0,0)\n",
        "    return best\n",
        "# Teste\n",
        "print(knapsack_bb([2,3,4,5],[3,4,5,6],5))",
        "```"
      ]
    },
    {
      "cell_type": "markdown",
      "metadata": {},
      "source": [
        "---\n",
        "## Parte 3/3: Aplicações Avançadas e Limitações\n",
        "\n",
        "### 1. Sudoku Solver (Backtracking)\n",
        "```python",
        "def solve_sudoku(board):\n",
        "    for i in range(9):\n",
        "        for j in range(9):\n",
        "            if board[i][j] == 0:\n",
        "                for val in range(1,10):\n",
        "                    if is_valid(board, i, j, val):\n",
        "                        board[i][j] = val\n",
        "                        if solve_sudoku(board): return True\n",
        "                        board[i][j] = 0\n",
        "                return False\n",
        "    return True\n",
        "```",
        "**Nota**: assume `is_valid` implementado conforme especificado."
      ]
    },
    {
      "cell_type": "markdown",
      "metadata": {},
      "source": [
        "### 2. Quando Usar Cada Técnica\n",
        "- **Backtracking**: problemas de decisão ou enumeração com poda simples (n-queens, subsets).\n",
        "- **Branch & Bound**: problemas de otimização com bound eficaz (knapsack, TSP de pequeno porte).\n",
        "- **Limitações**: ambos são exponenciais no pior caso; para instâncias grandes, preferir DP ou heurísticas.\n",
        "\n",
        "**Fim da Aula 7.**"
      ]
    }
  ],
  "metadata": {
    "kernelspec": {"display_name": "Python 3","language": "python","name": "python3"},
    "language_info": {"name": "python","version": "3.x"}
  },
  "nbformat": 4,
  "nbformat_minor": 5
}
