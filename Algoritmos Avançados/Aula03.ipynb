{
  "cells": [
    {
      "cell_type": "markdown",
      "id": "eba5d9dc",
      "metadata": {},
      "source": [
        "# Aula 3: Divisão e Conquista\n",
        "\n",
        "Nesta aula, aprofundaremos o paradigma de **Divisão & Conquista**, explorando sua estrutura geral, análise de complexidade e aplicabilidade."
      ]
    },
    {
      "cell_type": "markdown",
      "id": "b1413973",
      "metadata": {},
      "source": [
        "## Objetivos de Aprendizagem\n",
        "- Descrever a estrutura geral de um algoritmo de Divisão & Conquista.\n",
        "- Identificar as fases de divisão, conquista e combinação.\n",
        "- Analisar complexidade via árvores de recorrência e Teorema Mestre.\n",
        "- Implementar e avaliar exemplos clássicos (Merge Sort, Quick Sort).\n",
        "- Conhecer otimizações e híbridos (Threshold Insertion Sort)."
      ]
    },
    {
      "cell_type": "markdown",
      "id": "87fd7668",
      "metadata": {},
      "source": [
        "## 1. Estrutura de Divisão & Conquista\n",
        "$T(n) = a\\,T(n/b) + f(n)$, com fases de: divisão, conquista e combinação."
      ]
    },
    {
      "cell_type": "markdown",
      "id": "a70cf754",
      "metadata": {},
      "source": [
        "## 2. Análise de Complexidade\n",
        "- Árvore de Recorrência\n",
        "- Método Mestre\n",
        "**Insight**: comparar $f(n)=\\Theta(n^d)$ com $n^{\\log_b a}$."
      ]
    },
    {
      "cell_type": "markdown",
      "id": "ce8b5ea2",
      "metadata": {},
      "source": [
        "## 3. Quando Usar Divisão & Conquista\n",
        "- Problemas naturalmente subdivisíveis\n",
        "- Combinação eficiente\n",
        "- Paralelismo\n",
        "*Ex.: Merge Sort, Quick Sort, Strassen.*"
      ]
    },
    {
      "cell_type": "markdown",
      "id": "aec558b0",
      "metadata": {},
      "source": [
        "## 4. Exemplo Detalhado: Merge Sort (Parte 2)\n",
        "Implementação e análise de recorrência: $T(n)=2T(n/2)+n\\Rightarrow \\Theta(n\\log n)$."
      ]
    },
    {
      "cell_type": "code",
      "execution_count": null,
      "id": "19bbdc34",
      "metadata": {},
      "outputs": [],
      "source": [
        "def merge_sort(arr):\n",
        "    if len(arr) <= 1:\n",
        "        return arr\n",
        "    mid = len(arr) // 2\n",
        "    left = merge_sort(arr[:mid])\n",
        "    right = merge_sort(arr[mid:])\n",
        "    return merge(left, right)\n",
        "\n",
        "def merge(left, right):\n",
        "    result = []\n",
        "    i = j = 0\n",
        "    while i < len(left) and j < len(right):\n",
        "        if left[i] <= right[j]:\n",
        "            result.append(left[i])\n",
        "            i += 1\n",
        "        else:\n",
        "            result.append(right[j])\n",
        "            j += 1\n",
        "    result.extend(left[i:])\n",
        "    result.extend(right[j:])\n",
        "    return result\n"
      ]
    },
    {
      "cell_type": "markdown",
      "id": "69f81aa9",
      "metadata": {},
      "source": [
        "## 5. Quick Sort e Otimizações (Parte 3)\n",
        "O Quick Sort escolhe um pivô, particiona o array e recursivamente ordena subarrays."
      ]
    },
    {
      "cell_type": "code",
      "execution_count": null,
      "id": "e3d8d751",
      "metadata": {},
      "outputs": [],
      "source": [
        "def quick_sort(arr):\n",
        "    if len(arr) <= 1:\n",
        "        return arr\n",
        "    pivot = arr[len(arr) // 2]\n",
        "    left = [x for x in arr if x < pivot]\n",
        "    middle = [x for x in arr if x == pivot]\n",
        "    right = [x for x in arr if x > pivot]\n",
        "    return quick_sort(left) + middle + quick_sort(right)\n",
        "\n",
        "# Teste\n",
        "arr = [3,6,8,10,1,2,1]\n",
        "print('Original:', arr)\n",
        "print('Quick Sort:', quick_sort(arr))"
      ]
    },
    {
      "cell_type": "markdown",
      "id": "f1adc7bf",
      "metadata": {},
      "source": [
        "- Complexidade média: $O( n\\log n)$, pior caso: $O(n^2)$.\n",
        "- Otimizações: escolha de pivô aleatório, partições in-place."
      ]
    },
    {
      "cell_type": "markdown",
      "id": "e1731f72",
      "metadata": {},
      "source": [
        "## 6. Híbridos e Threshold Insertion Sort\n",
        "Para pequenas partições, o Insertion Sort ($O(n^2)$) é mais eficiente sim no menor custo constante.\n"
      ]
    },
    {
      "cell_type": "code",
      "execution_count": null,
      "id": "358aab81",
      "metadata": {},
      "outputs": [],
      "source": [
        "def insertion_sort(arr):\n",
        "    for i in range(1, len(arr)):\n",
        "        key = arr[i]\n",
        "        j = i - 1\n",
        "        while j >= 0 and arr[j] > key:\n",
        "            arr[j + 1] = arr[j]\n",
        "            j -= 1\n",
        "        arr[j + 1] = key\n",
        "    return arr\n",
        "\n",
        "def hybrid_sort(arr, threshold=16):\n",
        "    if len(arr) <= threshold:\n",
        "        return insertion_sort(arr)\n",
        "    mid = len(arr) // 2\n",
        "    left = hybrid_sort(arr[:mid], threshold)\n",
        "    right = hybrid_sort(arr[mid:], threshold)\n",
        "    return merge(left, right)\n",
        "\n",
        "# Teste Híbrido\n",
        "import random\n",
        "arr = random.sample(range(100), 20)\n",
        "print('Original:', arr)\n",
        "print('Hybrid Sort:', hybrid_sort(arr))"
      ]
    },
    {
      "cell_type": "markdown",
      "id": "e5c2e961",
      "metadata": {},
      "source": [
        "Com esse híbrido, garantimos complexo $O(n\\log n)$ na maior parte e uso de Insertion Sort para pequenas partições, melhorando performance prática.\n",
        "\n"
      ]
    }
  ],
  "metadata": {
    "kernelspec": {
      "display_name": "Python 3",
      "language": "python",
      "name": "python3"
    },
    "language_info": {
      "name": "python",
      "version": "3.x"
    }
  },
  "nbformat": 4,
  "nbformat_minor": 5
}
