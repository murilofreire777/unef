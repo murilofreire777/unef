{
  "cells": [
    {
      "cell_type": "markdown",
      "id": "eba5d9dc",
      "metadata": {},
      "source": [
        "# Aula 3: Divisão e Conquista\n",
        "\n",
        "Nesta aula, aprofundaremos o paradigma de **Divisão & Conquista**, explorando sua estrutura geral, análise de complexidade e aplicabilidade."
      ]
    },
    {
      "cell_type": "markdown",
      "id": "b1413973",
      "metadata": {},
      "source": [
        "## Objetivos de Aprendizagem\n",
        "- Descrever a estrutura geral de um algoritmo de Divisão & Conquista.\n",
        "- Identificar as fases de divisão, conquista e combinação.\n",
        "- Analisar complexidade via árvores de recorrência e Teorema Mestre.\n",
        "- Implementar e avaliar exemplos clássicos (Merge Sort, Quick Sort).\n",
        "- Conhecer otimizações e híbridos (Threshold Insertion Sort)."
      ]
    },
    {
      "cell_type": "markdown",
      "id": "87fd7668",
      "metadata": {},
      "source": [
        "## 1. Estrutura de Divisão & Conquista\n",
        "\n",
        "**Por que “Dividir & Conquistar”?**\n",
        "\n",
        "**Motivação:** muitos problemas grandes se tornam fáceis se pudermos quebrá-los em pedaços menores, resolver cada um independentemente e depois juntar o resultado.\n",
        "\n",
        "**Intuição:** pense em limpar a casa por cômodos, em vez de tentar varrer tudo de uma vez — cada cômodo (“subproblema”) fica simples, e ao final você “combina” tudo.\n",
        "\n",
        "<br>\n",
        "\n",
        "**Todo algoritmo de Divisão & Conquista segue três fases:**\n",
        "\n",
        "**1. Divisão**\n",
        "Quebrar o problema de tamanho 𝑛 em 𝑎 subproblemas, cada um de tamanho aproximadamente $𝑛/b$.\n",
        "\n",
        "**2. Conquista**\n",
        "Resolver cada subproblema **recursivamente**.\n",
        "\n",
        "**3. Combinação**\n",
        "Juntar as soluções dos subproblemas em uma solução para o problema original.\n",
        "\n",
        "<br>\n",
        "\n",
        "$T(n) = a\\,T(n/b) + f(n)$, com fases de: divisão, conquista e combinação."
      ]
    },
    {
      "cell_type": "markdown",
      "id": "a70cf754",
      "metadata": {},
      "source": [
        "## 2. Análise de Complexidade\n",
        "### 3.1 Master Theorem (Caso Prático)\n",
        "\n",
        "Considere a recorrência:\n",
        "\n",
        "$ T(n) = a\\,T\\!\\Bigl(\\frac{n}{b}\\Bigr) + f(n), $\n",
        "\n",
        "onde:\n",
        "- \\(a>=1\\)  é o número de subproblemas,\n",
        "- \\(b>1\\) é o fator de redução,\n",
        "- \\(f(n)\\) é o custo de divisão e combinação.\n",
        "\n",
        "1. Calcule $ (n^{\\log_b a} )$.\n",
        "\n",
        "2. Compare $(f(n))$ com $(n^{\\log_b a})$:\n",
        "\n",
        "   - **Caso 1**: se $(f(n)=O\\bigl(n^{\\log_b a-\\varepsilon}\\bigr))$, então $ T(n)=\\Theta\\bigl(n^{\\log_b a}\\bigr)$.\n",
        "    O custo de combinação é pequeno.\n",
        "   - **Caso 2**: se $(f(n)=\\Theta\\bigl(n^{\\log_b a}\\bigr))$, então $T(n)=\\Theta\\bigl(n^{\\log_b a}\\,\\log n\\bigr)$.\n",
        "    O custo de divisão e combinação são equivalentes\n",
        "   - **Caso 3**: se $(f(n)=\\Omega\\bigl(n^{\\log_b a+\\varepsilon}\\bigr))$ e satisfaz $(a\\,f(n/b)\\le c\\,f(n))$, então $T(n)=\\Theta\\bigl(f(n)\\bigr)$.\n",
        "    O custo de combinação é grande\n",
        "\n",
        "#### Exemplo: Merge Sort\n",
        "\n",
        "$ T(n)=2\\,T\\!\\Bigl(\\frac{n}{2}\\Bigr)+\\Theta(n).$\n",
        "\n",
        "Aqui $(a=2)$, $(b=2)$, $(f(n)=\\Theta(n))$, e $n^{log_2 2}=n$.\n",
        "\n",
        "Como $(f(n)=\\Theta(n^{\\log_2 2}))$, estamos no **Caso 2**:\n",
        "\n",
        "$T(n)=\\Theta(n\\log n).$\n"
      ]
    },
    {
      "cell_type": "markdown",
      "id": "ce8b5ea2",
      "metadata": {},
      "source": [
        "## 3. Quando Usar Divisão & Conquista\n",
        "- Problemas naturalmente subdivisíveis\n",
        "- Combinação eficiente\n",
        "- Paralelismo\n",
        "*Ex.: Merge Sort, Quick Sort, Strassen.*"
      ]
    },
    {
      "cell_type": "markdown",
      "id": "aec558b0",
      "metadata": {},
      "source": [
        "## 4. Exemplo Detalhado: Merge Sort\n",
        "Implementação e análise de recorrência: $T(n)=2T(n/2)+n\\Rightarrow \\Theta(n\\log n)$."
      ]
    },
    {
      "cell_type": "code",
      "execution_count": null,
      "id": "19bbdc34",
      "metadata": {},
      "outputs": [],
      "source": [
        "def merge_sort(arr):\n",
        "    if len(arr) <= 1:\n",
        "        return arr\n",
        "    mid = len(arr) // 2\n",
        "    left = merge_sort(arr[:mid])\n",
        "    right = merge_sort(arr[mid:])\n",
        "    return merge(left, right)\n",
        "\n",
        "def merge(left, right):\n",
        "    result = []\n",
        "    i = j = 0\n",
        "    while i < len(left) and j < len(right):\n",
        "        if left[i] <= right[j]:\n",
        "            result.append(left[i])\n",
        "            i += 1\n",
        "        else:\n",
        "            result.append(right[j])\n",
        "            j += 1\n",
        "    result.extend(left[i:])\n",
        "    result.extend(right[j:])\n",
        "    return result\n"
      ]
    },
    {
      "cell_type": "markdown",
      "id": "69f81aa9",
      "metadata": {},
      "source": [
        "## 5. Quick Sort e Otimizações\n",
        "O Quick Sort escolhe um pivô, particiona o array e recursivamente ordena subarrays."
      ]
    },
    {
      "cell_type": "code",
      "execution_count": null,
      "id": "e3d8d751",
      "metadata": {},
      "outputs": [],
      "source": [
        "def quick_sort(arr):\n",
        "    if len(arr) <= 1:\n",
        "        return arr\n",
        "    pivot = arr[len(arr) // 2]\n",
        "    left = [x for x in arr if x < pivot]\n",
        "    middle = [x for x in arr if x == pivot]\n",
        "    right = [x for x in arr if x > pivot]\n",
        "    return quick_sort(left) + middle + quick_sort(right)\n",
        "\n",
        "# Teste\n",
        "arr = [3,6,8,10,1,2,1]\n",
        "print('Original:', arr)\n",
        "print('Quick Sort:', quick_sort(arr))"
      ]
    },
    {
      "cell_type": "markdown",
      "id": "f1adc7bf",
      "metadata": {},
      "source": [
        "- Complexidade média: $O( n\\log n)$, pior caso: $O(n^2)$.\n",
        "- Otimizações: escolha de pivô aleatório, partições in-place."
      ]
    },
    {
      "cell_type": "markdown",
      "id": "e1731f72",
      "metadata": {},
      "source": [
        "## 6. Híbridos e Threshold Insertion Sort\n",
        "Algoritmos híbridos combinam dois (ou mais) paradigmas de ordenação para aproveitar o melhor de cada um. A ideia é usar:\n",
        "\n",
        "1. Um **algoritmo de divisão & conquista** (por exemplo, Merge Sort ou Quick Sort) em subproblemas grandes, onde sua sobrecarga recursiva é justificada.  \n",
        "2. **Insertion Sort** em subarrays pequenos, onde sua eficiência $O(k^2)$ com baixo custo constante supera o $O(k\\log k)$ dos algoritmos recursivos.\n",
        "\n",
        "### Por que usar um híbrido?\n",
        "\n",
        "- **Overhead recursivo** de Merge/Quick Sort (chamadas de função, particionamento, mescla) domina quando $n$ é pequeno.  \n",
        "- **Insertion Sort** tem poucas instruções por iteração e tende a ser muito rápido para $n \\le k$, com $k$ típico entre 10 e 50.  \n",
        "\n",
        "### Threshold Insertion Sort\n",
        "\n",
        "1. **Definição**:  \n",
        "   - Escolha um **limiar** $k$.  \n",
        "   - Sempre que um subarray recursivo tiver tamanho $n \\le k$, use **Insertion Sort** em vez de continuar a recursão.\n",
        "\n",
        "2. **Pseudocódigo (exemplo com Merge Sort)**:\n",
        "\n",
        "   ```python\n",
        "   def hybrid_merge_sort(A, k=32):\n",
        "       if len(A) <= k:\n",
        "           # Para subarrays pequenos, faz insertion sort\n",
        "           return insertion_sort(A)\n",
        "       mid = len(A)//2\n",
        "       L = hybrid_merge_sort(A[:mid], k)\n",
        "       R = hybrid_merge_sort(A[mid:], k)\n",
        "       return merge(L, R)\n"
      ]
    },
    {
      "cell_type": "code",
      "execution_count": null,
      "id": "358aab81",
      "metadata": {},
      "outputs": [],
      "source": [
        "def insertion_sort(arr):\n",
        "    for i in range(1, len(arr)):\n",
        "        key = arr[i]\n",
        "        j = i - 1\n",
        "        while j >= 0 and arr[j] > key:\n",
        "            arr[j + 1] = arr[j]\n",
        "            j -= 1\n",
        "        arr[j + 1] = key\n",
        "    return arr\n",
        "\n",
        "def hybrid_sort(arr, threshold=16):\n",
        "    if len(arr) <= threshold:\n",
        "        return insertion_sort(arr)\n",
        "    mid = len(arr) // 2\n",
        "    left = hybrid_sort(arr[:mid], threshold)\n",
        "    right = hybrid_sort(arr[mid:], threshold)\n",
        "    return merge(left, right)\n",
        "\n",
        "# Teste Híbrido\n",
        "import random\n",
        "arr = random.sample(range(100), 20)\n",
        "print('Original:', arr)\n",
        "print('Hybrid Sort:', hybrid_sort(arr))"
      ]
    },
    {
      "cell_type": "markdown",
      "id": "e5c2e961",
      "metadata": {},
      "source": [
        "Com esse híbrido, garantimos complexo $O(n\\log n)$ na maior parte e uso de Insertion Sort para pequenas partições, melhorando performance prática.\n",
        "\n"
      ]
    }
  ],
  "metadata": {
    "kernelspec": {
      "display_name": "Python 3",
      "language": "python",
      "name": "python3"
    },
    "language_info": {
      "name": "python",
      "version": "3.x"
    }
  },
  "nbformat": 4,
  "nbformat_minor": 5
}
