{
  "cells": [
    {
      "cell_type": "markdown",
      "metadata": {},
      "source": [
        "# Aula 8: Estruturas de Dados Avançadas\n",
        "\n",
        "Na Unidade 3, abordamos estruturas que suportam algoritmos de alta performance em cenários de grande volume de dados."
      ]
    },
    {
      "cell_type": "markdown",
      "metadata": {},
      "source": [
        "## Objetivos de Aprendizagem\n",
        "\n",
        "Ao final desta aula, você deverá ser capaz de:\n",
        "1. Entender a importância de estruturas balanceadas para operações em tempo logarítmico.\n",
        "2. Definir fatores de balanceamento e implementar rotações em árvores AVL.\n",
        "3. Inserir elementos em AVL com rebalanceamento automático.\n",
        "4. Compreender e usar Heaps (min-heap / max-heap) para filas de prioridade.\n",
        "5. Ter uma visão geral de B-Trees e sua aplicação em bancos de dados."
      ]
    },
    {
      "cell_type": "markdown",
      "metadata": {},
      "source": [
        "## 1. Parte 1/3: Árvores AVL – Revisão de Rotações\n",
        "\n",
        "### Conceitos de AVL e Tipos de Rotações\n",
        "- Fator de Balanceamento (FB) = h(esq) – h(dir), deve estar em [-1,0,1].\n",
        "- Casos: LL, RR, LR, RL com rotações simples ou duplas."
      ]
    },
    {
      "cell_type": "code",
      "execution_count": null,
      "metadata": {},
      "outputs": [],
      "source": [
        "class AVLNode:\n",
        "    def __init__(self, key):\n",
        "        self.key = key\n",
        "        self.left = None\n",
        "        self.right = None\n",
        "        self.height = 1  # nó inicial como folha\n",
        "\n",
        "def height(node):\n",
        "    return node.height if node else 0\n",
        "\n",
        "def update_height(node):\n",
        "    node.height = 1 + max(height(node.left), height(node.right))\n",
        "\n",
        "def rotate_right(y):\n",
        "    x = y.left\n",
        "    T2 = x.right\n",
        "    x.right = y\n",
        "    y.left = T2\n",
        "    update_height(y)\n",
        "    update_height(x)\n",
        "    return x\n",
        "\n",
        "def rotate_left(x):\n",
        "    y = x.right\n",
        "    T2 = y.left\n",
        "    y.left = x\n",
        "    x.right = T2\n",
        "    update_height(x)\n",
        "    update_height(y)\n",
        "    return y\n"
      ]
    },
    {
      "cell_type": "markdown",
      "metadata": {},
      "source": [
        "#### Parte 1 de 3 completa. A seguir, implementamos inserção com rebalanceamento."
      ]
    },
    {
      "cell_type": "markdown",
      "metadata": {},
      "source": [
        "## 2. Parte 2/3: Inserção em AVL com Rebalanceamento\n",
        "\n",
        "Ao inserir um novo nó, atualizamos alturas e checamos FB de cada ancestro, aplicando rotações se necessário."
      ]
    },
    {
      "cell_type": "code",
      "execution_count": null,
      "metadata": {},
      "outputs": [],
      "source": [
        "def insert_avl(node, key):\n",
        "    if not node: return AVLNode(key)\n",
        "    if key < node.key:\n",
        "        node.left = insert_avl(node.left, key)\n",
        "    else:\n",
        "        node.right = insert_avl(node.right, key)\n",
        "    update_height(node)\n",
        "    fb = height(node.left) - height(node.right)\n",
        "    if fb > 1 and key < node.left.key:\n",
        "        return rotate_right(node)  # LL\n",
        "    if fb < -1 and key > node.right.key:\n",
        "        return rotate_left(node)   # RR\n",
        "    if fb > 1 and key > node.left.key:\n",
        "        node.left = rotate_left(node.left)  # LR\n",
        "        return rotate_right(node)\n",
        "    if fb < -1 and key < node.right.key:\n",
        "        node.right = rotate_right(node.right)  # RL\n",
        "        return rotate_left(node)\n",
        "    return node\n",
        "\n",
        "# Teste de inserção\n",
        "root = None\n",
        "for v in [10,20,30,40,50,25]:\n",
        "    root = insert_avl(root, v)\n",
        "print('AVL inserido com rebalanceamento concluído')"
      ]
    },
    {
      "cell_type": "markdown",
      "metadata": {},
      "source": [
        "**Análise**: Cada inserção custa $O(\\log n)$.\n",
        "\n",
        "#### Parte 2 de 3 completa. Na Parte 3, veremos Heaps e B-Trees."
      ]
    },
    {
      "cell_type": "markdown",
      "metadata": {},
      "source": [
        "## 3. Parte 3/3: Heaps e B-Trees\n",
        "\n",
        "### 3.1 Heaps (Min-Heap e Max-Heap)\n",
        "- **Min-Heap**: raiz contém o menor elemento.\n",
        "- **Max-Heap**: raiz contém o maior elemento (implementado com valores negativos em min-heap).\n",
        "- Operações: `push`, `pop` em $O(\\log n)$; acesso ao topo em $O(1)$."
      ]
    },
    {
      "cell_type": "code",
      "execution_count": null,
      "metadata": {},
      "outputs": [],
      "source": [
        "import heapq\n",
        "# Min-Heap\n",
        "nums = [5, 1, 7, 3, 9]\n",
        "min_heap = []\n",
        "for x in nums:\n",
        "    heapq.heappush(min_heap, x)\n",
        "print('Min-Heap topo:', min_heap[0])\n",
        "# Pop elemento mínimo\n",
        "print('Pop min:', heapq.heappop(min_heap))\n",
        "\n",
        "# Max-Heap via min-heap com valores negativos\n",
        "max_heap = []\n",
        "for x in nums:\n",
        "    heapq.heappush(max_heap, -x)\n",
        "print('Max-Heap topo:', -max_heap[0])\n",
        "print('Pop max:', -heapq.heappop(max_heap))"
      ]
    },
    {
      "cell_type": "markdown",
      "metadata": {},
      "source": [
        "### 3.2 B-Trees – Visão Geral\n",
        "- **Árvore multiway**: cada nó pode ter até `m` filhos, otimizada para acesso em disco.\n",
        "- **Propriedades**: todos os nós folhas no mesmo nível; número de chaves em cada nó entre `⌈m/2⌉-1` e `m-1`.\n",
        "- **Uso**: índices de bancos de dados e sistemas de arquivos, minimizando leituras de disco.\n",
        "\n",
        "**Pseudocódigo**: Inserção em B-Tree  order `m`:\n",
        "```pseudocode\n",
        "B_TREE_INSERT(T, k):\n",
        "  r = T.root\n",
        "  if r.n == 2t-1:\n",
        "    s = ALLOC_NODE()\n",
        "    T.root = s\n",
        "    s.leaf = False\n",
        "    s.n = 0\n",
        "    s.child[0] = r\n",
        "    SPLIT_CHILD(s, 0)\n",
        "    INSERT_NONFULL(s, k)\n",
        "  else:\n",
        "    INSERT_NONFULL(r, k)\n",
        "```"
      ]
    }
  ],
  "metadata": {
    "kernelspec": {
      "display_name": "Python 3",
      "language": "python",
      "name": "python3"
    },
    "language_info": {
      "name": "python",
      "version": "3.x"
    }
  },
  "nbformat": 4,
  "nbformat_minor": 5
}
