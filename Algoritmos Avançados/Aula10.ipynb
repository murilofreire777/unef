{
  "cells": [
    {
      "cell_type": "markdown",
      "metadata": {},
      "source": [
        "# Aula 10: Algoritmos em Grafos\n",
        "\n"
      ]
    },
    {
      "cell_type": "markdown",
      "metadata": {},
      "source": [
        "## Objetivos de Aprendizagem\n",
        "\n",
        "Ao final desta aula, você deverá ser capaz de:\n",
        "1. Definir o problema de caminho mínimo de fonte única para pesos não-negativos.\n",
        "2. Entender as pré-condições e limitações do Algoritmo de Dijkstra.\n",
        "3. Implementar Dijkstra com complexidade $O((V + E)\\log V)$.\n",
        "4. Aplicar o Algoritmo de Bellman-Ford para grafos com pesos negativos e detectar ciclos.\n",
        "5. Implementar Floyd-Warshall para caminhos mínimos todos-pares e analisar $O(n^3)$.\n",
        "6. Aplicar Edmonds-Karp para cálculo de fluxo máximo com complexidade $O(VE^2)$.\n",
        "7. Construir Árvores Geradoras Mínimas usando Prim e Kruskal com complexidades $O(E\\log V)$ e $O(E\\log E)$."
      ]
    },
    {
      "cell_type": "markdown",
      "metadata": {},
      "source": [
        "## 1. Dijkstra – Fonte Única (Recapitulando)\n",
        "- Pressuposto: **pesos não-negativos**.\n",
        "- Usa fila de prioridades para escolher vértice com menor distância provisória.\n"
      ]
    },
    {
      "cell_type": "markdown",
      "id": "9237365e",
      "metadata": {},
      "source": [
        "**Problema**: dado grafo $(G=(V,E))$ com pesos $(w(u,v)\\ge0)$ e fonte $(s)$, encontrar $(d(s,v))$ mínimo.\n",
        "\n",
        "**Pseudocódigo**:\n",
        "```python\n",
        "DIJKSTRA(adj, s):\n",
        "    for u in V: dist[u] ← ∞\n",
        "    dist[s] ← 0\n",
        "    Q ← min-heap contendo (dist[u], u) para todos u\n",
        "    while Q não vazio:\n",
        "        (d, u) ← Q.pop()\n",
        "        if d > dist[u]: continue        # entrada obsoleta\n",
        "        for (v, w) in adj[u]:\n",
        "            if dist[u] + w < dist[v]:\n",
        "                dist[v] ← dist[u] + w\n",
        "                Q.decrease_key(v, dist[v])\n",
        "    return dist"
      ]
    },
    {
      "cell_type": "code",
      "execution_count": null,
      "metadata": {},
      "outputs": [],
      "source": [
        "import heapq\n",
        "def dijkstra(adj, source):\n",
        "    dist = {u: float('inf') for u in adj}\n",
        "    dist[source] = 0\n",
        "    pq = [(0, source)]\n",
        "    while pq:\n",
        "        d, u = heapq.heappop(pq)\n",
        "        if d > dist[u]: continue\n",
        "        for v, w in adj[u]:\n",
        "            nd = d + w\n",
        "            if nd < dist[v]:\n",
        "                dist[v] = nd\n",
        "                heapq.heappush(pq, (nd, v))\n",
        "    return dist\n",
        "# Exemplo\n",
        "graph = {\n",
        "    'A': [('B', 4), ('C', 1)],\n",
        "    'B': [('C', 2), ('D', 5)],\n",
        "    'C': [('D', 8), ('E', 10)],\n",
        "    'D': [('E', 2)],\n",
        "    'E': []\n",
        "}\n",
        "print('Dijkstra A->*:', dijkstra(graph, 'A'))"
      ]
    },
    {
      "cell_type": "markdown",
      "id": "346f3aaa",
      "metadata": {},
      "source": [
        "Complexidade: \n",
        "𝑂((∣𝑉∣+∣𝐸∣)log∣𝑉∣).\n",
        "\n",
        "Pré-condição: todos os pesos devem ser ≥ 0."
      ]
    },
    {
      "cell_type": "markdown",
      "metadata": {},
      "source": [
        "## 2. Bellman-Ford – Fonte Única com Pesos Negativos\n",
        "- Suporta **pesos negativos**, mas não suporta ciclos negativos.\n",
        "- Relaxa todas as arestas até $|V|-1$ vezes e verifica ciclos.\n"
      ]
    },
    {
      "cell_type": "markdown",
      "id": "623a4d47",
      "metadata": {},
      "source": [
        "````python\n",
        "BELLMAN_FORD(adj, s):\n",
        "    for u in V: dist[u] ← ∞\n",
        "    dist[s] ← 0\n",
        "    for i in 1..|V|-1:\n",
        "        for (u, v, w) in todas as arestas:\n",
        "            if dist[u] + w < dist[v]:\n",
        "                dist[v] ← dist[u] + w\n",
        "    # detectar ciclos negativos\n",
        "    for (u, v, w) in todas as arestas:\n",
        "        if dist[u] + w < dist[v]:\n",
        "            erro \"Ciclo negativo\"\n",
        "    return dist\n",
        "\n",
        "````"
      ]
    },
    {
      "cell_type": "code",
      "execution_count": null,
      "metadata": {},
      "outputs": [],
      "source": [
        "def bellman_ford(adj, source):\n",
        "    dist = {u: float('inf') for u in adj}\n",
        "    dist[source] = 0\n",
        "    V = len(adj)\n",
        "    for _ in range(V-1):\n",
        "        for u in adj:\n",
        "            for v, w in adj[u]:\n",
        "                if dist[u] + w < dist[v]:\n",
        "                    dist[v] = dist[u] + w\n",
        "    for u in adj:\n",
        "        for v, w in adj[u]:\n",
        "            if dist[u] + w < dist[v]:\n",
        "                raise ValueError('Ciclo negativo detectado')\n",
        "    return dist\n",
        "# Exemplo com peso negativo\n",
        "graph_neg = {\n",
        "    'A': [('B', 1)],\n",
        "    'B': [('C', -2)],\n",
        "    'C': [('D', 1)],\n",
        "    'D': []\n",
        "}\n",
        "print('Bellman-Ford A->*:', bellman_ford(graph_neg, 'A'))"
      ]
    },
    {
      "cell_type": "markdown",
      "metadata": {},
      "source": [
        "## 3. Floyd-Warshall – Todos-Pares\n",
        "- Calcula distâncias mínimas entre **todos os pares** de vértices.\n",
        "- Complexidade: $O(n^3)$.\n"
      ]
    },
    {
      "cell_type": "markdown",
      "id": "e05cd82c",
      "metadata": {},
      "source": [
        "````python\n",
        "\n",
        "FW(V, E):\n",
        "    dist[i][j] ← ∞ para todo i,j\n",
        "    dist[i][i] ← 0\n",
        "    para cada aresta (i,j,w): dist[i][j] ← w\n",
        "    for k in V:\n",
        "      for i in V:\n",
        "        for j in V:\n",
        "          if dist[i][k] + dist[k][j] < dist[i][j]:\n",
        "            dist[i][j] ← dist[i][k] + dist[k][j]\n",
        "    return dist\n",
        "````"
      ]
    },
    {
      "cell_type": "code",
      "execution_count": null,
      "metadata": {},
      "outputs": [],
      "source": [
        "import pandas as pd\n",
        "def floyd_warshall(vertices, edges):\n",
        "    n = len(vertices)\n",
        "    idx = {v:i for i,v in enumerate(vertices)}\n",
        "    dist = [[float('inf')]*n for _ in range(n)]\n",
        "    for i in range(n): dist[i][i] = 0\n",
        "    for u, v, w in edges: dist[idx[u]][idx[v]] = w\n",
        "    for k in range(n):\n",
        "        for i in range(n):\n",
        "            for j in range(n):\n",
        "                nd = dist[i][k] + dist[k][j]\n",
        "                if nd < dist[i][j]: dist[i][j] = nd\n",
        "    return dist\n",
        "vertices = ['A','B','C']\n",
        "edges = [('A','B',5),('B','C',3),('A','C',10)]\n",
        "matrix = floyd_warshall(vertices, edges)\n",
        "print(pd.DataFrame(matrix, index=vertices, columns=vertices))"
      ]
    },
    {
      "cell_type": "markdown",
      "metadata": {},
      "source": [
        "## 4. Fluxo Máximo – Edmonds-Karp\n",
        "- Usa BFS para encontrar caminhos aumentantes.\n",
        "- Complexidade: $O(VE^2)$.\n",
        "\n",
        "O algoritmo Edmonds-Karp funciona usando a Busca em Largura (BFS) para encontrar um caminho com capacidade disponível da fonte até o coletor (chamado de caminho aumentado ) e, então, envia o máximo de fluxo possível por esse caminho.\n",
        "\n",
        "O algoritmo Edmonds-Karp continua a encontrar novos caminhos para enviar mais fluxo até que o fluxo máximo seja atingido.\n",
        "\n",
        "Animação - Edmonds-Karp https://www.w3schools.com/dsa/dsa_algo_graphs_edmondskarp.php\n"
      ]
    },
    {
      "cell_type": "markdown",
      "id": "c7dabeda",
      "metadata": {},
      "source": [
        "````python\n",
        "EDMONDS_KARP(cap, s, t):\n",
        "    flow[u][v] ← 0 para todo u,v\n",
        "    max_flow ← 0\n",
        "    while existe caminho p de s a t em grafo residual (BFS):\n",
        "        path_flow ← min residual capacity em p\n",
        "        para cada aresta (u→v) em p:\n",
        "            flow[u][v] += path_flow\n",
        "            flow[v][u] -= path_flow\n",
        "        max_flow += path_flow\n",
        "    return max_flow\n",
        "````"
      ]
    },
    {
      "cell_type": "code",
      "execution_count": null,
      "metadata": {},
      "outputs": [],
      "source": [
        "from collections import deque\n",
        "def edmonds_karp(capacity, source, sink):\n",
        "    n = len(capacity)\n",
        "    flow = [[0]*n for _ in range(n)]\n",
        "    parent = [-1]*n\n",
        "    max_flow = 0\n",
        "    def bfs():\n",
        "        nonlocal parent\n",
        "        parent = [-1]*n\n",
        "        parent[source] = source\n",
        "        q = deque([source])\n",
        "        while q:\n",
        "            u = q.popleft()\n",
        "            for v in range(n):\n",
        "                if parent[v] < 0 and capacity[u][v] - flow[u][v] > 0:\n",
        "                    parent[v] = u\n",
        "                    if v == sink: return True\n",
        "                    q.append(v)\n",
        "        return False\n",
        "    while bfs():\n",
        "        path_flow = float('inf')\n",
        "        v = sink\n",
        "        while v != source:\n",
        "            u = parent[v]\n",
        "            path_flow = min(path_flow, capacity[u][v] - flow[u][v])\n",
        "            v = u\n",
        "        v = sink\n",
        "        while v != source:\n",
        "            u = parent[v]\n",
        "            flow[u][v] += path_flow\n",
        "            flow[v][u] -= path_flow\n",
        "            v = u\n",
        "        max_flow += path_flow\n",
        "    return max_flow\n",
        "capacity = [[0,16,13,0,0,0],[0,0,10,12,0,0],[0,4,0,0,14,0],[0,0,9,0,0,20],[0,0,0,7,0,4],[0,0,0,0,0,0]]\n",
        "print('Fluxo máximo:', edmonds_karp(capacity, 0, 5))"
      ]
    },
    {
      "cell_type": "markdown",
      "metadata": {},
      "source": [
        "## 5. Árvores Geradoras Mínimas (MST - minimum spanning tree)\n",
        "\n",
        "- **Prim**: usa heap, complexidade $O(E\\log V)$.\n",
        "- **Kruskal**: usa union-find, complexidade $O(E\\log E)$.\n",
        "\n",
        "Uma árvore geradora mínima (AGM), também conhecida como árvore de extensão mínima, é uma árvore que contém todos os vértices de um grafo conexo e não direcionado, e que tem o menor peso total de suas arestas entre todas as possíveis árvores geradoras. \n",
        "\n",
        "Em outras palavras, é a árvore que liga todos os nós do grafo com o menor custo total de arestas. \n",
        "\n",
        "Árvore Geradora Mínima - https://pt.wikipedia.org/wiki/%C3%81rvore_de_extens%C3%A3o_m%C3%ADnima#/media/Ficheiro:Minimum_spanning_tree.svg\n",
        "\n",
        "Uma árvore geradora é chamada mínima se, dentre todas as árvores geradoras que existem no grafo, a soma dos pesos nas arestas dela é o menor possível."
      ]
    },
    {
      "cell_type": "markdown",
      "id": "2a55c20e",
      "metadata": {},
      "source": [
        "````python\n",
        "PRIM(G):\n",
        "    escolha qualquer raiz r\n",
        "    Q ← min-heap de arestas incidentes em r\n",
        "    mark r\n",
        "    MST ← ∅\n",
        "    while |MST| < |V|-1:\n",
        "        (u,v,w) ← Q.pop()\n",
        "        if v não marcado:\n",
        "            mark v\n",
        "            MST.add((u,v,w))\n",
        "            inserir em Q todas arestas de v para não marcados\n",
        "    return MST\n",
        "````"
      ]
    },
    {
      "cell_type": "code",
      "execution_count": null,
      "metadata": {},
      "outputs": [],
      "source": [
        "import heapq\n",
        "# Prim\n",
        "def prim_mst(graph):\n",
        "    start = next(iter(graph))\n",
        "    visited = {start}\n",
        "    edges = [(w, start, v) for v,w in graph[start]]\n",
        "    heapq.heapify(edges)\n",
        "    mst = []\n",
        "    total = 0\n",
        "    while edges and len(visited) < len(graph):\n",
        "        w,u,v = heapq.heappop(edges)\n",
        "        if v not in visited:\n",
        "            visited.add(v)\n",
        "            mst.append((u,v,w))\n",
        "            total += w\n",
        "            for nv,nw in graph[v]:\n",
        "                if nv not in visited:\n",
        "                    heapq.heappush(edges,(nw,v,nv))\n",
        "    return total, mst\n",
        "# Exemplo Prim\n",
        "g = {'A':[('B',2),('C',3)],'B':[('A',2),('C',1),('D',4)],'C':[('A',3),('B',1),('D',5)],'D':[('B',4),('C',5)]}\n",
        "print('MST Prim:', prim_mst(g))\n",
        "# Kruskal\n",
        "def kruskal_mst(vertices, edges):\n",
        "    parent = {v:v for v in vertices}\n",
        "    rank = {v:0 for v in vertices}\n",
        "    def find(v):\n",
        "        if parent[v]!=v: parent[v]=find(parent[v])\n",
        "        return parent[v]\n",
        "    def union(a,b):\n",
        "        ra,rb = find(a), find(b)\n",
        "        if ra==rb: return False\n",
        "        if rank[ra]<rank[rb]: parent[ra]=rb\n",
        "        else: parent[rb]=ra;\n",
        "        if rank[ra]==rank[rb]: rank[ra]+=1\n",
        "        return True\n",
        "    mst=[]; total=0\n",
        "    for u,v,w in sorted(edges, key=lambda x:x[2]):\n",
        "        if union(u,v): mst.append((u,v,w)); total+=w\n",
        "    return total, mst\n",
        "vertices=['A','B','C','D']\n",
        "edges=[('A','B',2),('A','C',3),('B','C',1),('B','D',4),('C','D',5)]\n",
        "print('MST Kruskal:', kruskal_mst(vertices, edges))"
      ]
    },
    {
      "cell_type": "markdown",
      "id": "835ddcad",
      "metadata": {},
      "source": [
        "#### Comparação rápida\n",
        "\n",
        "| Algoritmo      | Tempo            | Espaço   | Restrições               |\n",
        "| -------------- | ---------------- | -------- | ------------------------ |\n",
        "| Dijkstra       | $O((V+E)\\log V)$ | $O(V)$   | Pesos ≥ 0                |\n",
        "| Bellman-Ford   | $O(VE)$          | $O(V)$   | Detecta ciclos negativos |\n",
        "| Floyd-Warshall | $O(V^3)$         | $O(V^2)$ | —                        |\n",
        "| Edmonds-Karp   | $O(VE^2)$        | $O(V^2)$ | —                        |\n",
        "| Prim           | $O(E\\log V)$     | $O(V)$   | —                        |\n",
        "| Kruskal        | $O(E\\log V)$     | $O(V)$   | —                        |\n"
      ]
    },
    {
      "cell_type": "markdown",
      "id": "bc9ecf9e",
      "metadata": {},
      "source": [
        "#### Dicas e Armadilhas\n",
        "**Dijkstra:** nunca use com pesos negativos (use Bellman-Ford).\n",
        "\n",
        "**Bellman-Ford:** cuidado com desempenho em grafos densos.\n",
        "\n",
        "**Floyd-Warshall:** ótimo para grafos pequenos, todos-pares.\n",
        "\n",
        "**Edmonds-Karp:** use em grafos de porte moderado, muita BFS residual.\n",
        "\n",
        "**MST:** escolha Kruskal para conjuntos de arestas pré-ordenados, Prim para estruturas de lista de adjacência."
      ]
    }
  ],
  "metadata": {
    "kernelspec": {
      "display_name": "Python 3",
      "language": "python",
      "name": "python3"
    },
    "language_info": {
      "name": "python",
      "version": "3.x"
    }
  },
  "nbformat": 4,
  "nbformat_minor": 5
}
