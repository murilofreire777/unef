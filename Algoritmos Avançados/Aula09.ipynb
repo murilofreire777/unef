{
  "cells": [
    {
      "cell_type": "markdown",
      "metadata": {},
      "source": [
        "# Aula 9: Representação de Grafos e Técnicas de Busca\n",
        "\n",
        "Nesta aula, exploraremos as diferentes **formas de representação de grafos** e as principais técnicas de busca em grafos (BFS e DFS), além de aplicações avançadas."
      ]
    },
    {
      "cell_type": "markdown",
      "metadata": {},
      "source": [
        "## Objetivos de Aprendizagem\n",
        "\n",
        "Ao final desta aula, você deverá ser capaz de:\n",
        "1. Definir diferentes tipos de grafos (dirigidos, não dirigidos, ponderados).\n",
        "2. Comparar e implementar as principais formas de representação de grafos.\n",
        "3. Executar buscas em largura (BFS) e em profundidade (DFS) em diferentes representações.\n",
        "4. Aplicar buscas para problemas como componentes conectados e detecção de ciclos."
      ]
    },
    {
      "cell_type": "markdown",
      "metadata": {},
      "source": [
        "## 1. Parte 1/3: Representação de Grafos\n",
        "Revisão das três principais representações: lista de adjacência, matriz de adjacência e lista de arestas."
      ]
    },
    {
      "cell_type": "code",
      "execution_count": null,
      "metadata": {},
      "outputs": [],
      "source": [
        "# Lista de Adjacência (não dirigido)\n",
        "graph_adj = {\n",
        "    'A': ['B', 'C'],\n",
        "    'B': ['A', 'D', 'E'],\n",
        "    'C': ['A', 'F'],\n",
        "    'D': ['B'],\n",
        "    'E': ['B', 'F'],\n",
        "    'F': ['C', 'E']\n",
        "}\n",
        "print('Vizinhos de B:', graph_adj['B'])"
      ]
    },
    {
      "cell_type": "code",
      "execution_count": null,
      "metadata": {},
      "outputs": [],
      "source": [
        "# Matriz de Adjacência (não ponderada)\n",
        "vertices = ['A', 'B', 'C', 'D']\n",
        "idx = {v: i for i, v in enumerate(vertices)}\n",
        "adj_matrix = [[0] * len(vertices) for _ in vertices]\n",
        "edges = [('A','B'), ('B','C'), ('C','D')]\n",
        "for u, v in edges:\n",
        "    i, j = idx[u], idx[v]\n",
        "    adj_matrix[i][j] = adj_matrix[j][i] = 1\n",
        "import pandas as pd\n",
        "print(pd.DataFrame(adj_matrix, index=vertices, columns=vertices))"
      ]
    },
    {
      "cell_type": "code",
      "execution_count": null,
      "metadata": {},
      "outputs": [],
      "source": [
        "# Lista de Arestas (ponderado)\n",
        "edge_list = [\n",
        "    ('A','B',5),\n",
        "    ('B','C',3),\n",
        "    ('C','D',2)\n",
        "]\n",
        "for u, v, w in edge_list:\n",
        "    print(f'Aresta {u}-{v} com peso {w}')"
      ]
    },
    {
      "cell_type": "markdown",
      "metadata": {},
      "source": [
        "#### Parte 1 de 3 finalizada. Na Parte 2, entraremos em Busca em Largura (BFS)."
      ]
    },
    {
      "cell_type": "markdown",
      "metadata": {},
      "source": [
        "## 2. Parte 2/3: Busca em Largura (BFS)\n",
        "\n",
        "A BFS explora vértices em camadas, garantindo que encontramos o caminho mínimo em grafos não ponderados."
      ]
    },
    {
      "cell_type": "code",
      "execution_count": null,
      "metadata": {},
      "outputs": [],
      "source": [
        "from collections import deque\n",
        "\n",
        "def bfs_adj_list(graph, start):\n",
        "    visited, order = set(), []\n",
        "    queue = deque([start])\n",
        "    visited.add(start)\n",
        "    while queue:\n",
        "        v = queue.popleft()\n",
        "        order.append(v)\n",
        "        for nei in graph.get(v, []):\n",
        "            if nei not in visited:\n",
        "                visited.add(nei)\n",
        "                queue.append(nei)\n",
        "    return order\n",
        "\n",
        "# Teste em lista de adjacência\n",
        "print('BFS a partir de A:', bfs_adj_list(graph_adj, 'A'))"
      ]
    },
    {
      "cell_type": "markdown",
      "metadata": {},
      "source": [
        "### BFS em Matriz de Adjacência\n",
        "```python\n",
        "def bfs_adj_matrix(matrix, vertices, start):\n",
        "    idx = {v: i for i, v in enumerate(vertices)}\n",
        "    visited, order = set(), []\n",
        "    queue = deque([start])\n",
        "    visited.add(start)\n",
        "    while queue:\n",
        "        u = queue.popleft()\n",
        "        order.append(u)\n",
        "        for j, val in enumerate(matrix[idx[u]]):\n",
        "            if val and vertices[j] not in visited:\n",
        "                visited.add(vertices[j])\n",
        "                queue.append(vertices[j])\n",
        "    return order\n",
        "```"
      ]
    },
    {
      "cell_type": "markdown",
      "metadata": {},
      "source": [
        "#### Parte 2 de 3 finalizada. Na Parte 3, entraremos em Busca em Profundidade (DFS) e aplicações avançadas."
      ]
    },
    {
      "cell_type": "markdown",
      "metadata": {},
      "source": [
        "## 3. Parte 3/3: Busca em Profundidade (DFS) e Aplicações Avançadas\n",
        "\n",
        "A DFS mergulha o mais fundo possível antes de retroceder, sendo útil para detecção de componentes conectados, ciclos e ordenação topológica."
      ]
    },
    {
      "cell_type": "code",
      "execution_count": null,
      "metadata": {},
      "outputs": [],
      "source": [
        "def dfs_adj_list(graph, node, visited=None, order=None):\n",
        "    if visited is None: visited = set()\n",
        "    if order is None: order = []\n",
        "    visited.add(node)\n",
        "    order.append(node)\n",
        "    for nei in graph.get(node, []):\n",
        "        if nei not in visited:\n",
        "            dfs_adj_list(graph, nei, visited, order)\n",
        "    return order\n",
        "\n",
        "# Teste em lista de adjacência\n",
        "print('DFS a partir de A:', dfs_adj_list(graph_adj, 'A'))"
      ]
    },
    {
      "cell_type": "code",
      "execution_count": null,
      "metadata": {},
      "outputs": [],
      "source": [
        "# Exemplo Avançado: Componentes Conectados via DFS\n",
        "def connected_components(graph):\n",
        "    visited = set()\n",
        "    comps = []\n",
        "    for v in graph:\n",
        "        if v not in visited:\n",
        "            comp = dfs_adj_list(graph, v, visited=set(), order=[])\n",
        "            comps.append(comp)\n",
        "            visited.update(comp)\n",
        "    return comps\n",
        "\n",
        "print('Componentes conectados:', connected_components(graph_adj))"
      ]
    },
    {
      "cell_type": "markdown",
      "metadata": {},
      "source": [
        "**Conclusão da Aula 9:** cobrimos representações, BFS, DFS, e aplicações em detecção de componentes. Na próxima unidade, estudaremos algoritmos de caminho mínimo e fluxo máximo."
      ]
    }
  ],
  "metadata": {
    "kernelspec": {
      "display_name": "Python 3",
      "language": "python",
      "name": "python3"
    },
    "language_info": {
      "name": "python",
      "version": "3.x"
    }
  },
  "nbformat": 4,
  "nbformat_minor": 5
}
